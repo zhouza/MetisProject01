{
 "cells": [
  {
   "cell_type": "code",
   "execution_count": 332,
   "metadata": {},
   "outputs": [],
   "source": [
    "from datetime import timedelta, date\n",
    "import datetime\n",
    "import numpy as np\n",
    "import pandas as pd\n",
    "import string\n",
    "import re\n",
    "import csv\n",
    "import requests\n",
    "import string\n",
    "from copy import deepcopy, copy\n",
    "import matplotlib.pyplot as plt\n",
    "import seaborn as sns\n",
    "from IPython.display import Image\n",
    "import plotly\n",
    "import plotly.plotly as py\n",
    "from plotly.graph_objs import *\n",
    "plotly.tools.set_credentials_file(username='aabid0193', api_key='xJKtUA3jiPLjTQThzQUk')\n",
    "import scipy\n",
    "\n",
    "%matplotlib inline\n",
    "\n",
    "plt.style.use('seaborn')"
   ]
  },
  {
   "cell_type": "markdown",
   "metadata": {},
   "source": [
    "The additional data we chose to use was census data. The data was found on Kaggle and contained partially aggregated 2017 data for each census block regarding the respondents' sex, race, employment status, employment industry, transportation preference - among other metrics. For our analysis we will focus on sex, employment industry, and transportation preference."
   ]
  },
  {
   "cell_type": "code",
   "execution_count": 660,
   "metadata": {},
   "outputs": [],
   "source": [
    "# read data from saved csv files\n",
    "df_census = pd.read_csv('nyc_census_tracts.csv', delimiter = ',', header = 0, skipinitialspace = True)\n",
    "df_census_loc = pd.read_csv('census_block_loc.csv', delimiter = ',', header = 0, skipinitialspace = True)"
   ]
  },
  {
   "cell_type": "code",
   "execution_count": 661,
   "metadata": {},
   "outputs": [],
   "source": [
    "# create a new dataframe with only the columns we are interested in\n",
    "df_census_sub = df_census[[\"CensusTract\",\"County\",\"Borough\",\"TotalPop\",\"Women\",\"Income\",\"Poverty\",\"Professional\",\"Transit\",\"Employed\"]].copy()"
   ]
  },
  {
   "cell_type": "code",
   "execution_count": 250,
   "metadata": {
    "scrolled": true
   },
   "outputs": [
    {
     "data": {
      "text/html": [
       "<div>\n",
       "<style scoped>\n",
       "    .dataframe tbody tr th:only-of-type {\n",
       "        vertical-align: middle;\n",
       "    }\n",
       "\n",
       "    .dataframe tbody tr th {\n",
       "        vertical-align: top;\n",
       "    }\n",
       "\n",
       "    .dataframe thead th {\n",
       "        text-align: right;\n",
       "    }\n",
       "</style>\n",
       "<table border=\"1\" class=\"dataframe\">\n",
       "  <thead>\n",
       "    <tr style=\"text-align: right;\">\n",
       "      <th></th>\n",
       "      <th>CensusTract</th>\n",
       "      <th>County</th>\n",
       "      <th>Borough</th>\n",
       "      <th>TotalPop</th>\n",
       "      <th>Women</th>\n",
       "      <th>Income</th>\n",
       "      <th>Poverty</th>\n",
       "      <th>Professional</th>\n",
       "      <th>Transit</th>\n",
       "      <th>Employed</th>\n",
       "    </tr>\n",
       "  </thead>\n",
       "  <tbody>\n",
       "    <tr>\n",
       "      <th>0</th>\n",
       "      <td>36005000100</td>\n",
       "      <td>Bronx</td>\n",
       "      <td>Bronx</td>\n",
       "      <td>7703</td>\n",
       "      <td>570</td>\n",
       "      <td>NaN</td>\n",
       "      <td>NaN</td>\n",
       "      <td>NaN</td>\n",
       "      <td>NaN</td>\n",
       "      <td>0</td>\n",
       "    </tr>\n",
       "    <tr>\n",
       "      <th>1</th>\n",
       "      <td>36005000200</td>\n",
       "      <td>Bronx</td>\n",
       "      <td>Bronx</td>\n",
       "      <td>5403</td>\n",
       "      <td>2744</td>\n",
       "      <td>72034.0</td>\n",
       "      <td>20.0</td>\n",
       "      <td>28.7</td>\n",
       "      <td>38.6</td>\n",
       "      <td>2308</td>\n",
       "    </tr>\n",
       "    <tr>\n",
       "      <th>2</th>\n",
       "      <td>36005000400</td>\n",
       "      <td>Bronx</td>\n",
       "      <td>Bronx</td>\n",
       "      <td>5915</td>\n",
       "      <td>3019</td>\n",
       "      <td>74836.0</td>\n",
       "      <td>13.2</td>\n",
       "      <td>32.2</td>\n",
       "      <td>44.6</td>\n",
       "      <td>2675</td>\n",
       "    </tr>\n",
       "    <tr>\n",
       "      <th>3</th>\n",
       "      <td>36005001600</td>\n",
       "      <td>Bronx</td>\n",
       "      <td>Bronx</td>\n",
       "      <td>5879</td>\n",
       "      <td>3321</td>\n",
       "      <td>32312.0</td>\n",
       "      <td>26.3</td>\n",
       "      <td>19.1</td>\n",
       "      <td>45.5</td>\n",
       "      <td>2120</td>\n",
       "    </tr>\n",
       "    <tr>\n",
       "      <th>4</th>\n",
       "      <td>36005001900</td>\n",
       "      <td>Bronx</td>\n",
       "      <td>Bronx</td>\n",
       "      <td>2591</td>\n",
       "      <td>1385</td>\n",
       "      <td>37936.0</td>\n",
       "      <td>37.1</td>\n",
       "      <td>35.4</td>\n",
       "      <td>63.9</td>\n",
       "      <td>1083</td>\n",
       "    </tr>\n",
       "  </tbody>\n",
       "</table>\n",
       "</div>"
      ],
      "text/plain": [
       "   CensusTract County Borough  TotalPop  Women   Income  Poverty  \\\n",
       "0  36005000100  Bronx   Bronx      7703    570      NaN      NaN   \n",
       "1  36005000200  Bronx   Bronx      5403   2744  72034.0     20.0   \n",
       "2  36005000400  Bronx   Bronx      5915   3019  74836.0     13.2   \n",
       "3  36005001600  Bronx   Bronx      5879   3321  32312.0     26.3   \n",
       "4  36005001900  Bronx   Bronx      2591   1385  37936.0     37.1   \n",
       "\n",
       "   Professional  Transit  Employed  \n",
       "0           NaN      NaN         0  \n",
       "1          28.7     38.6      2308  \n",
       "2          32.2     44.6      2675  \n",
       "3          19.1     45.5      2120  \n",
       "4          35.4     63.9      1083  "
      ]
     },
     "execution_count": 250,
     "metadata": {},
     "output_type": "execute_result"
    }
   ],
   "source": [
    "df_census_sub.head()"
   ]
  },
  {
   "cell_type": "code",
   "execution_count": 663,
   "metadata": {},
   "outputs": [],
   "source": [
    "# select only census data from within NY\n",
    "df_census_loc = df_census_loc[(df_census_loc[\"State\"] == 'NY')]"
   ]
  },
  {
   "cell_type": "markdown",
   "metadata": {},
   "source": [
    "The census location data has an identifier for the census block, but this identifier has more digits to signify a more specific location slice. In order to match up the location with the census data, we need to cut down the identifier to the appropriate specificity. "
   ]
  },
  {
   "cell_type": "code",
   "execution_count": 254,
   "metadata": {
    "scrolled": true
   },
   "outputs": [],
   "source": [
    "# create a copy of the BlockCode as a string so that we can perform slicing\n",
    "df_census_loc[\"CensusTract\"] = df_census_loc[\"BlockCode\"].apply(str)"
   ]
  },
  {
   "cell_type": "code",
   "execution_count": 255,
   "metadata": {
    "scrolled": false
   },
   "outputs": [],
   "source": [
    "df_census_loc[\"CensusTract\"] = df_census_loc[\"CensusTract\"].str[:-4]"
   ]
  },
  {
   "cell_type": "code",
   "execution_count": 257,
   "metadata": {
    "scrolled": false
   },
   "outputs": [],
   "source": [
    "# set the CensusTract string back to an integer type so that the data types will match when merging later on\n",
    "df_census_loc[\"CensusTract\"] = df_census_loc[\"CensusTract\"].apply(int)"
   ]
  },
  {
   "cell_type": "markdown",
   "metadata": {},
   "source": [
    "Since there are multiple BlockCodes per CensusTracts, we want to find the average coordinates for each CensusTract. Thus when we merge dataframes, there are no duplicates."
   ]
  },
  {
   "cell_type": "code",
   "execution_count": 258,
   "metadata": {
    "scrolled": true
   },
   "outputs": [],
   "source": [
    "df_census_loc[\"Avg_Lat\"] = df_census_loc.groupby([\"CensusTract\"])[\"Latitude\"].transform(lambda x: x.mean())"
   ]
  },
  {
   "cell_type": "code",
   "execution_count": 259,
   "metadata": {},
   "outputs": [],
   "source": [
    "df_census_loc[\"Avg_Long\"] = df_census_loc.groupby([\"CensusTract\"])[\"Longitude\"].transform(lambda x: x.mean())"
   ]
  },
  {
   "cell_type": "code",
   "execution_count": 260,
   "metadata": {},
   "outputs": [],
   "source": [
    "# create a new dataframe that contains only CensusTract ID and the matching average geographical coordinates\n",
    "df_census_coord = df_census_loc[[\"CensusTract\",\"Avg_Lat\",\"Avg_Long\"]].copy()"
   ]
  },
  {
   "cell_type": "code",
   "execution_count": 261,
   "metadata": {
    "scrolled": true
   },
   "outputs": [],
   "source": [
    "# drop duplicates so there is only one record per CensusTract. the duplicates came from the transform function above.\n",
    "df_census_coord.drop_duplicates([\"CensusTract\",\"Avg_Lat\",\"Avg_Long\"], keep = 'first', inplace = True)"
   ]
  },
  {
   "cell_type": "markdown",
   "metadata": {},
   "source": [
    "Now we have a dataframe with CensusTract ID and the geographical coordinates, and a dataframe with census data per CensusTract ID. Now we need to merge these into one dataframe so we can look at census metrics by geographical location."
   ]
  },
  {
   "cell_type": "code",
   "execution_count": 263,
   "metadata": {
    "scrolled": true
   },
   "outputs": [],
   "source": [
    "# create a new dataframe by adding 3 columns from our location dataframe into the census data dataframe\n",
    "df_census_merge = pd.merge(df_census_sub,df_census_coord[[\"CensusTract\",\"Avg_Lat\",\"Avg_Long\"]],on='CensusTract')"
   ]
  },
  {
   "cell_type": "markdown",
   "metadata": {},
   "source": [
    "Looking below, we can see that there are different numbers of nulls per metric. The nulls can't be used, but removing records for any nulls isn't the best approach. Instead, we split the data up by metric into separate dataframes to clean and analyze."
   ]
  },
  {
   "cell_type": "code",
   "execution_count": 659,
   "metadata": {
    "scrolled": false
   },
   "outputs": [
    {
     "data": {
      "text/plain": [
       "CensusTract      0\n",
       "County           0\n",
       "Borough          0\n",
       "TotalPop         0\n",
       "Women            0\n",
       "Income          66\n",
       "Poverty         42\n",
       "Professional    43\n",
       "Transit         43\n",
       "Employed         0\n",
       "Avg_Lat          0\n",
       "Avg_Long         0\n",
       "dtype: int64"
      ]
     },
     "execution_count": 659,
     "metadata": {},
     "output_type": "execute_result"
    }
   ],
   "source": [
    "df_census_merge.isnull().sum()"
   ]
  },
  {
   "cell_type": "code",
   "execution_count": 289,
   "metadata": {},
   "outputs": [],
   "source": [
    "df_census_sex = df_census_merge[[\"CensusTract\",\"County\",\"Borough\",\"TotalPop\",\"Women\",\"Avg_Lat\",\"Avg_Long\"]].copy()"
   ]
  },
  {
   "cell_type": "code",
   "execution_count": 539,
   "metadata": {},
   "outputs": [],
   "source": [
    "df_census_transit = df_census_merge[[\"CensusTract\",\"County\",\"Borough\",\"TotalPop\",\"Women\",\"Transit\",\"Avg_Lat\",\"Avg_Long\"]].copy()"
   ]
  },
  {
   "cell_type": "code",
   "execution_count": 587,
   "metadata": {},
   "outputs": [],
   "source": [
    "df_census_empl = df_census_merge[[\"CensusTract\",\"County\",\"Borough\",\"TotalPop\",\"Women\",\"Professional\",\"Employed\",\"Avg_Lat\",\"Avg_Long\"]].copy()"
   ]
  },
  {
   "cell_type": "code",
   "execution_count": 278,
   "metadata": {},
   "outputs": [],
   "source": [
    "df_census_poverty = df_census_merge[[\"CensusTract\",\"County\",\"Borough\",\"TotalPop\",\"Women\",\"Poverty\",\"Avg_Lat\",\"Avg_Long\"]].copy()"
   ]
  },
  {
   "cell_type": "markdown",
   "metadata": {},
   "source": [
    "Now we can remove any records representing a lack of response for each metric within its own dataframe. For transit percent, for example, this would be a NaN value. For the total population, this would be 0. "
   ]
  },
  {
   "cell_type": "code",
   "execution_count": 540,
   "metadata": {},
   "outputs": [],
   "source": [
    "df_census_transit.dropna(axis=0, how='any',inplace=True)"
   ]
  },
  {
   "cell_type": "code",
   "execution_count": 280,
   "metadata": {},
   "outputs": [],
   "source": [
    "df_census_poverty.dropna(axis=0, how='any',inplace=True)"
   ]
  },
  {
   "cell_type": "code",
   "execution_count": null,
   "metadata": {},
   "outputs": [],
   "source": [
    "# compare how many non-responses would be removed compared to the full dataset sizsei\n",
    "df_census_sex[(df_census_sex[\"TotalPop\"]==0) & (df_census_sex[\"Women\"] == 0)].groupby([\"County\",\"Borough\"])[\"CensusTract\"].count()"
   ]
  },
  {
   "cell_type": "code",
   "execution_count": 291,
   "metadata": {
    "scrolled": true
   },
   "outputs": [
    {
     "data": {
      "text/plain": [
       "County    Borough      \n",
       "Bronx     Bronx            331\n",
       "Kings     Brooklyn         747\n",
       "New York  Manhattan        278\n",
       "Queens    Queens           647\n",
       "Richmond  Staten Island    108\n",
       "Name: CensusTract, dtype: int64"
      ]
     },
     "execution_count": 291,
     "metadata": {},
     "output_type": "execute_result"
    }
   ],
   "source": [
    "df_census_sex[(df_census_sex[\"TotalPop\"]>0) & (df_census_sex[\"Women\"] > 0)].groupby([\"County\",\"Borough\"])[\"CensusTract\"].count()"
   ]
  },
  {
   "cell_type": "code",
   "execution_count": 295,
   "metadata": {},
   "outputs": [],
   "source": [
    "# remove the non responses\n",
    "df_census_sex = df_census_sex[(df_census_sex[\"TotalPop\"]>0) & (df_census_sex[\"Women\"] > 0)]"
   ]
  },
  {
   "cell_type": "markdown",
   "metadata": {},
   "source": [
    "Now let's bring in the station location data for reference."
   ]
  },
  {
   "cell_type": "code",
   "execution_count": 286,
   "metadata": {},
   "outputs": [],
   "source": [
    "df_stations = pd.read_csv('stations.csv', delimiter = ',', header = 0, skipinitialspace = True)"
   ]
  },
  {
   "cell_type": "code",
   "execution_count": 300,
   "metadata": {},
   "outputs": [],
   "source": [
    "# limit dataset to only the locational information that we need\n",
    "df_stations = df_stations[[\"Stop Name\",\"GTFS Latitude\",\"GTFS Longitude\"]]"
   ]
  },
  {
   "cell_type": "markdown",
   "metadata": {},
   "source": [
    "We want to identify for each CensusTract, which station is closest. Then we will be able to aggregate metrics by station. To do this, we use Scipy's KDTree."
   ]
  },
  {
   "cell_type": "code",
   "execution_count": 303,
   "metadata": {},
   "outputs": [],
   "source": [
    "# create an array of coordinates for the reference stations that will be used in nearest neighbor function\n",
    "station_array = df_stations[[\"GTFS Latitude\",\"GTFS Longitude\"]].values"
   ]
  },
  {
   "cell_type": "code",
   "execution_count": 304,
   "metadata": {},
   "outputs": [],
   "source": [
    "# create an array of coordinates for the census data that will be used in nearest neighbor function\n",
    "sex_array = df_census_sex[[\"Avg_Lat\",\"Avg_Long\"]].values"
   ]
  },
  {
   "cell_type": "code",
   "execution_count": 307,
   "metadata": {},
   "outputs": [],
   "source": [
    "def find_nearest(ref_array,target_array):\n",
    "    \"\"\"\n",
    "    This function takes in a reference array and a target array, \n",
    "    and returns a list of indices corresponding to the reference array\n",
    "    representing the nearest location for each element in the target array.\n",
    "    \"\"\"\n",
    "    ref_tree = scipy.spatial.cKDTree(ref_array)\n",
    "    dist, indices = ref_tree.query(target_array, k=1)\n",
    "    return indices\n",
    "\n",
    "results = find_nearest(station_array,sex_array)"
   ]
  },
  {
   "cell_type": "code",
   "execution_count": 321,
   "metadata": {},
   "outputs": [],
   "source": [
    "# copy the nearest neighbor indices into a column in the dataframe\n",
    "df_census_sex['nearest_station_index'] = results"
   ]
  },
  {
   "cell_type": "code",
   "execution_count": 329,
   "metadata": {},
   "outputs": [
    {
     "data": {
      "text/html": [
       "<div>\n",
       "<style scoped>\n",
       "    .dataframe tbody tr th:only-of-type {\n",
       "        vertical-align: middle;\n",
       "    }\n",
       "\n",
       "    .dataframe tbody tr th {\n",
       "        vertical-align: top;\n",
       "    }\n",
       "\n",
       "    .dataframe thead th {\n",
       "        text-align: right;\n",
       "    }\n",
       "</style>\n",
       "<table border=\"1\" class=\"dataframe\">\n",
       "  <thead>\n",
       "    <tr style=\"text-align: right;\">\n",
       "      <th></th>\n",
       "      <th>Stop Name</th>\n",
       "      <th>GTFS Latitude</th>\n",
       "      <th>GTFS Longitude</th>\n",
       "    </tr>\n",
       "  </thead>\n",
       "  <tbody>\n",
       "    <tr>\n",
       "      <th>373</th>\n",
       "      <td>Longwood Av</td>\n",
       "      <td>40.816104</td>\n",
       "      <td>-73.896435</td>\n",
       "    </tr>\n",
       "    <tr>\n",
       "      <th>368</th>\n",
       "      <td>St Lawrence Av</td>\n",
       "      <td>40.831509</td>\n",
       "      <td>-73.867618</td>\n",
       "    </tr>\n",
       "    <tr>\n",
       "      <th>366</th>\n",
       "      <td>Castle Hill Av</td>\n",
       "      <td>40.834255</td>\n",
       "      <td>-73.851222</td>\n",
       "    </tr>\n",
       "    <tr>\n",
       "      <th>367</th>\n",
       "      <td>Parkchester</td>\n",
       "      <td>40.833226</td>\n",
       "      <td>-73.860816</td>\n",
       "    </tr>\n",
       "    <tr>\n",
       "      <th>376</th>\n",
       "      <td>Cypress Av</td>\n",
       "      <td>40.805368</td>\n",
       "      <td>-73.914042</td>\n",
       "    </tr>\n",
       "  </tbody>\n",
       "</table>\n",
       "</div>"
      ],
      "text/plain": [
       "          Stop Name  GTFS Latitude  GTFS Longitude\n",
       "373     Longwood Av      40.816104      -73.896435\n",
       "368  St Lawrence Av      40.831509      -73.867618\n",
       "366  Castle Hill Av      40.834255      -73.851222\n",
       "367     Parkchester      40.833226      -73.860816\n",
       "376      Cypress Av      40.805368      -73.914042"
      ]
     },
     "execution_count": 329,
     "metadata": {},
     "output_type": "execute_result"
    }
   ],
   "source": [
    "# check the kdtree result array \n",
    "df_stations.loc[results,:].head()"
   ]
  },
  {
   "cell_type": "code",
   "execution_count": 430,
   "metadata": {},
   "outputs": [],
   "source": [
    "# create a merged dataframe that has info on Women counts + station location\n",
    "df_station_sex = pd.merge(df_stations.reset_index(), df_census_sex, right_on=\"nearest_station_index\", left_on=\"index\", how='right')"
   ]
  },
  {
   "cell_type": "code",
   "execution_count": 432,
   "metadata": {},
   "outputs": [],
   "source": [
    "# remove unneeded columns\n",
    "df_station_sex.drop(columns=[\"index\",\"Avg_Lat\",\"Avg_Long\",\"nearest_station_index\"], inplace=True)"
   ]
  },
  {
   "cell_type": "code",
   "execution_count": 433,
   "metadata": {},
   "outputs": [],
   "source": [
    "# add a column indicating the total count of women responding with respect to the nearest station\n",
    "df_station_sex[\"Tot_Women_By_Station\"] = df_station_sex.groupby([\"Stop Name\"])[\"Women\"].transform(lambda x: sum(x))"
   ]
  },
  {
   "cell_type": "code",
   "execution_count": 434,
   "metadata": {},
   "outputs": [],
   "source": [
    "# add a column indicating the total count of women responding to the survey overall\n",
    "df_station_sex[\"Tot_Women\"] = df_station_sex[\"Women\"].sum()"
   ]
  },
  {
   "cell_type": "code",
   "execution_count": 435,
   "metadata": {},
   "outputs": [],
   "source": [
    "# add a column which represents the percentage of women responding to the survey per closest station\n",
    "df_station_sex[\"Women_Pct\"] = (df_station_sex[\"Tot_Women_By_Station\"]/df_station_sex[\"Tot_Women\"])*100"
   ]
  },
  {
   "cell_type": "markdown",
   "metadata": {},
   "source": [
    "Now that we have aggregated metrics by station, we don't need the other columns and we can select only the unique values of interest."
   ]
  },
  {
   "cell_type": "code",
   "execution_count": 437,
   "metadata": {
    "scrolled": true
   },
   "outputs": [],
   "source": [
    "# keep only one record per unique key of Stop Name, Station coordinates, Aggregated metrics\n",
    "df_station_sex.drop_duplicates([\"Stop Name\"], keep = 'first', inplace = True)"
   ]
  },
  {
   "cell_type": "code",
   "execution_count": 491,
   "metadata": {},
   "outputs": [],
   "source": [
    "df_station_sex_graph = df_station_sex[[\"Stop Name\",\"GTFS Latitude\",\"GTFS Longitude\",\"Women_Pct\",\"CensusTract\"]].copy()"
   ]
  },
  {
   "cell_type": "code",
   "execution_count": 401,
   "metadata": {},
   "outputs": [
    {
     "data": {
      "text/html": [
       "<iframe id=\"igraph\" scrolling=\"no\" style=\"border:none;\" seamless=\"seamless\" src=\"https://plot.ly/~aabid0193/2.embed\" height=\"525px\" width=\"100%\"></iframe>"
      ],
      "text/plain": [
       "<plotly.tools.PlotlyDisplay object>"
      ]
     },
     "execution_count": 401,
     "metadata": {},
     "output_type": "execute_result"
    }
   ],
   "source": [
    "# attempt to plot a heatmap. this didn't return clear results.\n",
    "df_station_sex_graph['text'] = df_station_sex_graph[\"Stop Name\"] + '' + 'Women: ' + df_station_sex_graph['Women_Pct'].astype(str)\n",
    "\n",
    "scl = [ [0,\"rgb(5, 10, 172)\"],[0.35,\"rgb(40, 60, 190)\"],[0.5,\"rgb(70, 100, 245)\"],\\\n",
    "    [0.6,\"rgb(90, 120, 245)\"],[0.7,\"rgb(106, 137, 247)\"],[1,\"rgb(220, 220, 220)\"] ]\n",
    "\n",
    "data = [ dict(\n",
    "        type = 'scattergeo',\n",
    "        locationmode = 'USA-states',\n",
    "        lon = df_station_sex_graph['GTFS Longitude'],\n",
    "        lat = df_station_sex_graph['GTFS Latitude'],\n",
    "        text = df_station_sex_graph['text'],\n",
    "        mode = 'markers',\n",
    "        marker = dict(\n",
    "            size = 8,\n",
    "            opacity = 0.8,\n",
    "            reversescale = True,\n",
    "            autocolorscale = False,\n",
    "            symbol = 'square',\n",
    "            line = dict(\n",
    "                width=1,\n",
    "                color='rgba(102, 102, 102)'\n",
    "            ),\n",
    "            colorscale = scl,\n",
    "            cmin = 0,\n",
    "            color = df_station_sex_graph['Women_Pct'],\n",
    "            cmax = df_station_sex_graph['Women_Pct'].max(),\n",
    "            colorbar=dict(\n",
    "                title=\"Percent of Women Responding to Census\"\n",
    "            )\n",
    "        ))]\n",
    "\n",
    "layout = dict(\n",
    "        title = 'Highest census response from women by nearest MTA station<br>(Hover for station names)',\n",
    "        colorbar = True,\n",
    "        geo = dict(\n",
    "            scope='usa',\n",
    "            projection=dict( type='albers usa' ),\n",
    "            showland = True,\n",
    "            landcolor = \"rgb(250, 250, 250)\",\n",
    "            subunitcolor = \"rgb(217, 217, 217)\",\n",
    "            countrycolor = \"rgb(217, 217, 217)\",\n",
    "            countrywidth = 0.5,\n",
    "            subunitwidth = 0.5\n",
    "        ),\n",
    "    )\n",
    "\n",
    "fig = dict( data=data, layout=layout )\n",
    "py.iplot( fig, validate=False, filename='mta-stations' )"
   ]
  },
  {
   "cell_type": "code",
   "execution_count": 545,
   "metadata": {},
   "outputs": [],
   "source": [
    "# identify the top 15 stations by percent of women responding to census, for use in a graph\n",
    "df_station_top = df_station_sex_graph[['Stop Name','Women_Pct','CensusTract']].sort_values(by=['Women_Pct'], ascending=False).head(15)"
   ]
  },
  {
   "cell_type": "code",
   "execution_count": 494,
   "metadata": {
    "scrolled": false
   },
   "outputs": [
    {
     "data": {
      "image/png": "[encoded data removed]",
      "text/plain": [
       "<matplotlib.figure.Figure at 0x1641b615390>"
      ]
     },
     "metadata": {},
     "output_type": "display_data"
    }
   ],
   "source": [
    "# plot a horizontal bar graph with the top 15 stations by percent of women responding to census\n",
    "categories = df_station_top['Stop Name']\n",
    "values = df_station_top['Women_Pct']\n",
    "\n",
    "plt.figure(dpi=100)\n",
    "\n",
    "plt.barh(np.arange(len(categories)), values[::-1])\n",
    "\n",
    "plt.yticks(np.arange(len(categories)),\n",
    "           ['{}'.format(x) for x in categories[::-1]]);"
   ]
  },
  {
   "cell_type": "code",
   "execution_count": 561,
   "metadata": {},
   "outputs": [],
   "source": [
    "# save off the index to order other graphs in the same way \n",
    "df_station_top['new_index'] = df_station_top.reset_index().index"
   ]
  },
  {
   "cell_type": "markdown",
   "metadata": {},
   "source": [
    "The same steps above are repeated for transit and employment industry."
   ]
  },
  {
   "cell_type": "code",
   "execution_count": 563,
   "metadata": {},
   "outputs": [],
   "source": [
    "df_transit_merge = pd.merge(df_census_transit,df_station_top[[\"Stop Name\",\"CensusTract\",\"new_index\"]],on='CensusTract')"
   ]
  },
  {
   "cell_type": "code",
   "execution_count": 588,
   "metadata": {},
   "outputs": [],
   "source": [
    "df_empl_merge = pd.merge(df_census_empl,df_station_top[[\"Stop Name\",\"CensusTract\",\"new_index\"]],on='CensusTract')"
   ]
  },
  {
   "cell_type": "code",
   "execution_count": 586,
   "metadata": {},
   "outputs": [],
   "source": [
    "df_transit_top = df_transit_merge[df_transit_merge[\"Stop Name\"].isin(df_station_top[\"Stop Name\"].values)][[\"Stop Name\",\"Transit\",\"new_index\"]].groupby([\"Stop Name\"]).mean().sort_values(by=[\"new_index\"]).reset_index().head(15)"
   ]
  },
  {
   "cell_type": "code",
   "execution_count": 591,
   "metadata": {},
   "outputs": [],
   "source": [
    "df_empl_top = df_empl_merge[df_empl_merge[\"Stop Name\"].isin(df_station_top[\"Stop Name\"].values)][[\"Stop Name\",\"Professional\",\"new_index\"]].groupby([\"Stop Name\"]).mean().sort_values(by=[\"new_index\"]).reset_index().head(15)"
   ]
  },
  {
   "cell_type": "code",
   "execution_count": 579,
   "metadata": {
    "scrolled": false
   },
   "outputs": [
    {
     "data": {
      "image/png": "[encoded data removed]",
      "text/plain": [
       "<matplotlib.figure.Figure at 0x1641b0e6dd8>"
      ]
     },
     "metadata": {},
     "output_type": "display_data"
    }
   ],
   "source": [
    "categories = df_transit_top['Stop Name']\n",
    "values = df_transit_top['Transit']\n",
    "\n",
    "plt.figure(dpi=100)\n",
    "\n",
    "plt.barh(np.arange(len(categories)),values[::-1],color='orange')\n",
    "\n",
    "plt.yticks(np.arange(len(categories)),\n",
    "           ['{}'.format(x) for x in categories[::-1]]);"
   ]
  },
  {
   "cell_type": "code",
   "execution_count": 592,
   "metadata": {},
   "outputs": [
    {
     "data": {
      "image/png": "[encoded data removed]",
      "text/plain": [
       "<matplotlib.figure.Figure at 0x1641aadd320>"
      ]
     },
     "metadata": {},
     "output_type": "display_data"
    }
   ],
   "source": [
    "categories = df_empl_top['Stop Name']\n",
    "values = df_empl_top['Professional']\n",
    "\n",
    "plt.figure(dpi=100)\n",
    "\n",
    "plt.barh(np.arange(len(categories)),values[::-1],color='purple')\n",
    "\n",
    "plt.yticks(np.arange(len(categories)),\n",
    "           ['{}'.format(x) for x in categories[::-1]]);"
   ]
  },
  {
   "cell_type": "code",
   "execution_count": 615,
   "metadata": {},
   "outputs": [],
   "source": [
    "station_top_list = df_station_top[\"Stop Name\"].values.tolist()\n",
    "\n",
    "transit_top_list = list(df_transit_top[\"Transit\"].values)\n",
    "\n",
    "empl_top_list = list(df_empl_top[\"Professional\"].values)"
   ]
  },
  {
   "cell_type": "code",
   "execution_count": 658,
   "metadata": {},
   "outputs": [
    {
     "data": {
      "text/plain": [
       "<matplotlib.figure.Figure at 0x1641aefd908>"
      ]
     },
     "metadata": {},
     "output_type": "display_data"
    },
    {
     "data": {
      "image/png": "[encoded data removed]",
      "text/plain": [
       "<matplotlib.figure.Figure at 0x1641adeb978>"
      ]
     },
     "metadata": {},
     "output_type": "display_data"
    }
   ],
   "source": [
    "df_station_metrics = pd.DataFrame(dict(graph=station_top_list,\n",
    "                           transit=transit_top_list, \n",
    "                           empl=empl_top_list))\n",
    "\n",
    "plt.figure(dpi=500)\n",
    "ind = np.arange(len(df_station_metrics))\n",
    "width = 0.4\n",
    "\n",
    "fig, ax = plt.subplots()\n",
    "ax.barh(ind, df_station_metrics.transit[::-1], width, color='orange', label='Transit')\n",
    "ax.barh(ind - width, df_station_metrics.empl[::-1], width, color='purple', label='Professional')\n",
    "\n",
    "ax.set(yticks=ind + width-0.5, yticklabels=df_station_metrics.graph[::-1], ylim=[2*width-1.5, len(df_station_metrics)-.6])\n",
    "ax.legend();"
   ]
  }
 ],
 "metadata": {
  "kernelspec": {
   "display_name": "Python 3",
   "language": "python",
   "name": "python3"
  },
  "language_info": {
   "codemirror_mode": {
    "name": "ipython",
    "version": 3
   },
   "file_extension": ".py",
   "mimetype": "text/x-python",
   "name": "python",
   "nbconvert_exporter": "python",
   "pygments_lexer": "ipython3",
   "version": "3.6.4"
  }
 },
 "nbformat": 4,
 "nbformat_minor": 2
}
