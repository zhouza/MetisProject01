{
 "cells": [
  {
   "cell_type": "code",
   "execution_count": 3,
   "metadata": {},
   "outputs": [],
   "source": [
    "from datetime import timedelta, date\n",
    "import datetime\n",
    "import numpy as np\n",
    "import pandas as pd\n",
    "import string\n",
    "import re\n",
    "import csv\n",
    "import requests\n",
    "import string\n",
    "\n",
    "df_remotes = pd.read_csv('turnstile_location.csv', delimiter = ',', header = 0, skipinitialspace = True)\n",
    "\n",
    "df_remotes.drop('1', axis = 1, inplace = True)"
   ]
  },
  {
   "cell_type": "code",
   "execution_count": 4,
   "metadata": {
    "scrolled": true
   },
   "outputs": [
    {
     "data": {
      "text/html": [
       "<div>\n",
       "<style scoped>\n",
       "    .dataframe tbody tr th:only-of-type {\n",
       "        vertical-align: middle;\n",
       "    }\n",
       "\n",
       "    .dataframe tbody tr th {\n",
       "        vertical-align: top;\n",
       "    }\n",
       "\n",
       "    .dataframe thead th {\n",
       "        text-align: right;\n",
       "    }\n",
       "</style>\n",
       "<table border=\"1\" class=\"dataframe\">\n",
       "  <thead>\n",
       "    <tr style=\"text-align: right;\">\n",
       "      <th></th>\n",
       "      <th>Remote</th>\n",
       "      <th>Booth</th>\n",
       "      <th>Station</th>\n",
       "      <th>Line Name</th>\n",
       "      <th>Division</th>\n",
       "    </tr>\n",
       "  </thead>\n",
       "  <tbody>\n",
       "    <tr>\n",
       "      <th>0</th>\n",
       "      <td>R001</td>\n",
       "      <td>A060</td>\n",
       "      <td>WHITEHALL ST</td>\n",
       "      <td>R1</td>\n",
       "      <td>BMT</td>\n",
       "    </tr>\n",
       "    <tr>\n",
       "      <th>1</th>\n",
       "      <td>R001</td>\n",
       "      <td>A058</td>\n",
       "      <td>WHITEHALL ST</td>\n",
       "      <td>R1</td>\n",
       "      <td>BMT</td>\n",
       "    </tr>\n",
       "    <tr>\n",
       "      <th>2</th>\n",
       "      <td>R001</td>\n",
       "      <td>R101S</td>\n",
       "      <td>SOUTH FERRY</td>\n",
       "      <td>R1</td>\n",
       "      <td>IRT</td>\n",
       "    </tr>\n",
       "    <tr>\n",
       "      <th>3</th>\n",
       "      <td>R002</td>\n",
       "      <td>A077</td>\n",
       "      <td>FULTON ST</td>\n",
       "      <td>ACJZ2345</td>\n",
       "      <td>BMT</td>\n",
       "    </tr>\n",
       "    <tr>\n",
       "      <th>4</th>\n",
       "      <td>R002</td>\n",
       "      <td>A081</td>\n",
       "      <td>FULTON ST</td>\n",
       "      <td>ACJZ2345</td>\n",
       "      <td>BMT</td>\n",
       "    </tr>\n",
       "  </tbody>\n",
       "</table>\n",
       "</div>"
      ],
      "text/plain": [
       "  Remote  Booth       Station Line Name Division\n",
       "0   R001   A060  WHITEHALL ST        R1      BMT\n",
       "1   R001   A058  WHITEHALL ST        R1      BMT\n",
       "2   R001  R101S   SOUTH FERRY        R1      IRT\n",
       "3   R002   A077     FULTON ST  ACJZ2345      BMT\n",
       "4   R002   A081     FULTON ST  ACJZ2345      BMT"
      ]
     },
     "execution_count": 4,
     "metadata": {},
     "output_type": "execute_result"
    }
   ],
   "source": [
    "df_remotes.head(5)"
   ]
  },
  {
   "cell_type": "code",
   "execution_count": 5,
   "metadata": {},
   "outputs": [],
   "source": [
    "df_stations = pd.read_csv('stations.csv', delimiter = ',', header = 0, skipinitialspace = True)"
   ]
  },
  {
   "cell_type": "code",
   "execution_count": 6,
   "metadata": {
    "scrolled": true
   },
   "outputs": [
    {
     "data": {
      "text/html": [
       "<div>\n",
       "<style scoped>\n",
       "    .dataframe tbody tr th:only-of-type {\n",
       "        vertical-align: middle;\n",
       "    }\n",
       "\n",
       "    .dataframe tbody tr th {\n",
       "        vertical-align: top;\n",
       "    }\n",
       "\n",
       "    .dataframe thead th {\n",
       "        text-align: right;\n",
       "    }\n",
       "</style>\n",
       "<table border=\"1\" class=\"dataframe\">\n",
       "  <thead>\n",
       "    <tr style=\"text-align: right;\">\n",
       "      <th></th>\n",
       "      <th>Station ID</th>\n",
       "      <th>Complex ID</th>\n",
       "      <th>GTFS Stop ID</th>\n",
       "      <th>Division</th>\n",
       "      <th>Line</th>\n",
       "      <th>Stop Name</th>\n",
       "      <th>Borough</th>\n",
       "      <th>Daytime Routes</th>\n",
       "      <th>Structure</th>\n",
       "      <th>GTFS Latitude</th>\n",
       "      <th>GTFS Longitude</th>\n",
       "    </tr>\n",
       "  </thead>\n",
       "  <tbody>\n",
       "    <tr>\n",
       "      <th>0</th>\n",
       "      <td>1</td>\n",
       "      <td>1</td>\n",
       "      <td>R01</td>\n",
       "      <td>BMT</td>\n",
       "      <td>Astoria</td>\n",
       "      <td>Astoria - Ditmars Blvd</td>\n",
       "      <td>Q</td>\n",
       "      <td>N W</td>\n",
       "      <td>Elevated</td>\n",
       "      <td>40.775036</td>\n",
       "      <td>-73.912034</td>\n",
       "    </tr>\n",
       "    <tr>\n",
       "      <th>1</th>\n",
       "      <td>2</td>\n",
       "      <td>2</td>\n",
       "      <td>R03</td>\n",
       "      <td>BMT</td>\n",
       "      <td>Astoria</td>\n",
       "      <td>Astoria Blvd</td>\n",
       "      <td>Q</td>\n",
       "      <td>N W</td>\n",
       "      <td>Elevated</td>\n",
       "      <td>40.770258</td>\n",
       "      <td>-73.917843</td>\n",
       "    </tr>\n",
       "    <tr>\n",
       "      <th>2</th>\n",
       "      <td>3</td>\n",
       "      <td>3</td>\n",
       "      <td>R04</td>\n",
       "      <td>BMT</td>\n",
       "      <td>Astoria</td>\n",
       "      <td>30 Av</td>\n",
       "      <td>Q</td>\n",
       "      <td>N W</td>\n",
       "      <td>Elevated</td>\n",
       "      <td>40.766779</td>\n",
       "      <td>-73.921479</td>\n",
       "    </tr>\n",
       "    <tr>\n",
       "      <th>3</th>\n",
       "      <td>4</td>\n",
       "      <td>4</td>\n",
       "      <td>R05</td>\n",
       "      <td>BMT</td>\n",
       "      <td>Astoria</td>\n",
       "      <td>Broadway</td>\n",
       "      <td>Q</td>\n",
       "      <td>N W</td>\n",
       "      <td>Elevated</td>\n",
       "      <td>40.761820</td>\n",
       "      <td>-73.925508</td>\n",
       "    </tr>\n",
       "    <tr>\n",
       "      <th>4</th>\n",
       "      <td>5</td>\n",
       "      <td>5</td>\n",
       "      <td>R06</td>\n",
       "      <td>BMT</td>\n",
       "      <td>Astoria</td>\n",
       "      <td>36 Av</td>\n",
       "      <td>Q</td>\n",
       "      <td>N W</td>\n",
       "      <td>Elevated</td>\n",
       "      <td>40.756804</td>\n",
       "      <td>-73.929575</td>\n",
       "    </tr>\n",
       "  </tbody>\n",
       "</table>\n",
       "</div>"
      ],
      "text/plain": [
       "   Station ID  Complex ID GTFS Stop ID Division     Line  \\\n",
       "0           1           1          R01      BMT  Astoria   \n",
       "1           2           2          R03      BMT  Astoria   \n",
       "2           3           3          R04      BMT  Astoria   \n",
       "3           4           4          R05      BMT  Astoria   \n",
       "4           5           5          R06      BMT  Astoria   \n",
       "\n",
       "                Stop Name Borough Daytime Routes Structure  GTFS Latitude  \\\n",
       "0  Astoria - Ditmars Blvd       Q            N W  Elevated      40.775036   \n",
       "1            Astoria Blvd       Q            N W  Elevated      40.770258   \n",
       "2                   30 Av       Q            N W  Elevated      40.766779   \n",
       "3                Broadway       Q            N W  Elevated      40.761820   \n",
       "4                   36 Av       Q            N W  Elevated      40.756804   \n",
       "\n",
       "   GTFS Longitude  \n",
       "0      -73.912034  \n",
       "1      -73.917843  \n",
       "2      -73.921479  \n",
       "3      -73.925508  \n",
       "4      -73.929575  "
      ]
     },
     "execution_count": 6,
     "metadata": {},
     "output_type": "execute_result"
    }
   ],
   "source": [
    "df_stations.head(5)"
   ]
  },
  {
   "cell_type": "code",
   "execution_count": 63,
   "metadata": {},
   "outputs": [],
   "source": [
    "df_traffic = pd.read_csv('traffic_2017.csv', delimiter = ',', header = 0, skipinitialspace = True)"
   ]
  },
  {
   "cell_type": "code",
   "execution_count": 64,
   "metadata": {
    "scrolled": true
   },
   "outputs": [
    {
     "data": {
      "text/html": [
       "<div>\n",
       "<style scoped>\n",
       "    .dataframe tbody tr th:only-of-type {\n",
       "        vertical-align: middle;\n",
       "    }\n",
       "\n",
       "    .dataframe tbody tr th {\n",
       "        vertical-align: top;\n",
       "    }\n",
       "\n",
       "    .dataframe thead th {\n",
       "        text-align: right;\n",
       "    }\n",
       "</style>\n",
       "<table border=\"1\" class=\"dataframe\">\n",
       "  <thead>\n",
       "    <tr style=\"text-align: right;\">\n",
       "      <th></th>\n",
       "      <th>C/A</th>\n",
       "      <th>UNIT</th>\n",
       "      <th>SCP</th>\n",
       "      <th>STATION</th>\n",
       "      <th>LINENAME</th>\n",
       "      <th>DIVISION</th>\n",
       "      <th>DATE</th>\n",
       "      <th>TIME</th>\n",
       "      <th>DESC</th>\n",
       "      <th>ENTRIES</th>\n",
       "      <th>EXITS</th>\n",
       "    </tr>\n",
       "  </thead>\n",
       "  <tbody>\n",
       "    <tr>\n",
       "      <th>0</th>\n",
       "      <td>A002</td>\n",
       "      <td>R051</td>\n",
       "      <td>02-00-00</td>\n",
       "      <td>59 ST</td>\n",
       "      <td>NQR456W</td>\n",
       "      <td>BMT</td>\n",
       "      <td>04/08/2017</td>\n",
       "      <td>00:00:00</td>\n",
       "      <td>REGULAR</td>\n",
       "      <td>6127245</td>\n",
       "      <td>2076158</td>\n",
       "    </tr>\n",
       "    <tr>\n",
       "      <th>1</th>\n",
       "      <td>A002</td>\n",
       "      <td>R051</td>\n",
       "      <td>02-00-00</td>\n",
       "      <td>59 ST</td>\n",
       "      <td>NQR456W</td>\n",
       "      <td>BMT</td>\n",
       "      <td>04/08/2017</td>\n",
       "      <td>04:00:00</td>\n",
       "      <td>REGULAR</td>\n",
       "      <td>6127285</td>\n",
       "      <td>2076165</td>\n",
       "    </tr>\n",
       "    <tr>\n",
       "      <th>2</th>\n",
       "      <td>A002</td>\n",
       "      <td>R051</td>\n",
       "      <td>02-00-00</td>\n",
       "      <td>59 ST</td>\n",
       "      <td>NQR456W</td>\n",
       "      <td>BMT</td>\n",
       "      <td>04/08/2017</td>\n",
       "      <td>08:00:00</td>\n",
       "      <td>REGULAR</td>\n",
       "      <td>6127304</td>\n",
       "      <td>2076196</td>\n",
       "    </tr>\n",
       "    <tr>\n",
       "      <th>3</th>\n",
       "      <td>A002</td>\n",
       "      <td>R051</td>\n",
       "      <td>02-00-00</td>\n",
       "      <td>59 ST</td>\n",
       "      <td>NQR456W</td>\n",
       "      <td>BMT</td>\n",
       "      <td>04/08/2017</td>\n",
       "      <td>12:00:00</td>\n",
       "      <td>REGULAR</td>\n",
       "      <td>6127409</td>\n",
       "      <td>2076284</td>\n",
       "    </tr>\n",
       "    <tr>\n",
       "      <th>4</th>\n",
       "      <td>A002</td>\n",
       "      <td>R051</td>\n",
       "      <td>02-00-00</td>\n",
       "      <td>59 ST</td>\n",
       "      <td>NQR456W</td>\n",
       "      <td>BMT</td>\n",
       "      <td>04/08/2017</td>\n",
       "      <td>16:00:00</td>\n",
       "      <td>REGULAR</td>\n",
       "      <td>6127654</td>\n",
       "      <td>2076350</td>\n",
       "    </tr>\n",
       "  </tbody>\n",
       "</table>\n",
       "</div>"
      ],
      "text/plain": [
       "    C/A  UNIT       SCP STATION LINENAME DIVISION        DATE      TIME  \\\n",
       "0  A002  R051  02-00-00   59 ST  NQR456W      BMT  04/08/2017  00:00:00   \n",
       "1  A002  R051  02-00-00   59 ST  NQR456W      BMT  04/08/2017  04:00:00   \n",
       "2  A002  R051  02-00-00   59 ST  NQR456W      BMT  04/08/2017  08:00:00   \n",
       "3  A002  R051  02-00-00   59 ST  NQR456W      BMT  04/08/2017  12:00:00   \n",
       "4  A002  R051  02-00-00   59 ST  NQR456W      BMT  04/08/2017  16:00:00   \n",
       "\n",
       "      DESC  ENTRIES    EXITS  \n",
       "0  REGULAR  6127245  2076158  \n",
       "1  REGULAR  6127285  2076165  \n",
       "2  REGULAR  6127304  2076196  \n",
       "3  REGULAR  6127409  2076284  \n",
       "4  REGULAR  6127654  2076350  "
      ]
     },
     "execution_count": 64,
     "metadata": {},
     "output_type": "execute_result"
    }
   ],
   "source": [
    "df_traffic.head(5)"
   ]
  },
  {
   "cell_type": "code",
   "execution_count": 65,
   "metadata": {
    "scrolled": false
   },
   "outputs": [
    {
     "data": {
      "text/plain": [
       "C/A         0\n",
       "UNIT        0\n",
       "SCP         0\n",
       "STATION     0\n",
       "LINENAME    0\n",
       "DIVISION    0\n",
       "DATE        0\n",
       "TIME        0\n",
       "DESC        0\n",
       "ENTRIES     0\n",
       "EXITS       0\n",
       "dtype: int64"
      ]
     },
     "execution_count": 65,
     "metadata": {},
     "output_type": "execute_result"
    }
   ],
   "source": [
    "df_traffic.isnull().sum()"
   ]
  },
  {
   "cell_type": "code",
   "execution_count": 66,
   "metadata": {},
   "outputs": [
    {
     "data": {
      "text/html": [
       "<div>\n",
       "<style scoped>\n",
       "    .dataframe tbody tr th:only-of-type {\n",
       "        vertical-align: middle;\n",
       "    }\n",
       "\n",
       "    .dataframe tbody tr th {\n",
       "        vertical-align: top;\n",
       "    }\n",
       "\n",
       "    .dataframe thead th {\n",
       "        text-align: right;\n",
       "    }\n",
       "</style>\n",
       "<table border=\"1\" class=\"dataframe\">\n",
       "  <thead>\n",
       "    <tr style=\"text-align: right;\">\n",
       "      <th></th>\n",
       "      <th>ENTRIES</th>\n",
       "      <th>EXITS</th>\n",
       "    </tr>\n",
       "  </thead>\n",
       "  <tbody>\n",
       "    <tr>\n",
       "      <th>count</th>\n",
       "      <td>2.170121e+06</td>\n",
       "      <td>2.170121e+06</td>\n",
       "    </tr>\n",
       "    <tr>\n",
       "      <th>mean</th>\n",
       "      <td>3.781080e+07</td>\n",
       "      <td>3.016909e+07</td>\n",
       "    </tr>\n",
       "    <tr>\n",
       "      <th>std</th>\n",
       "      <td>2.032673e+08</td>\n",
       "      <td>1.820563e+08</td>\n",
       "    </tr>\n",
       "    <tr>\n",
       "      <th>min</th>\n",
       "      <td>0.000000e+00</td>\n",
       "      <td>0.000000e+00</td>\n",
       "    </tr>\n",
       "    <tr>\n",
       "      <th>25%</th>\n",
       "      <td>4.990290e+05</td>\n",
       "      <td>2.460920e+05</td>\n",
       "    </tr>\n",
       "    <tr>\n",
       "      <th>50%</th>\n",
       "      <td>2.636823e+06</td>\n",
       "      <td>1.486406e+06</td>\n",
       "    </tr>\n",
       "    <tr>\n",
       "      <th>75%</th>\n",
       "      <td>6.746402e+06</td>\n",
       "      <td>4.753406e+06</td>\n",
       "    </tr>\n",
       "    <tr>\n",
       "      <th>max</th>\n",
       "      <td>2.130545e+09</td>\n",
       "      <td>2.087387e+09</td>\n",
       "    </tr>\n",
       "  </tbody>\n",
       "</table>\n",
       "</div>"
      ],
      "text/plain": [
       "            ENTRIES         EXITS\n",
       "count  2.170121e+06  2.170121e+06\n",
       "mean   3.781080e+07  3.016909e+07\n",
       "std    2.032673e+08  1.820563e+08\n",
       "min    0.000000e+00  0.000000e+00\n",
       "25%    4.990290e+05  2.460920e+05\n",
       "50%    2.636823e+06  1.486406e+06\n",
       "75%    6.746402e+06  4.753406e+06\n",
       "max    2.130545e+09  2.087387e+09"
      ]
     },
     "execution_count": 66,
     "metadata": {},
     "output_type": "execute_result"
    }
   ],
   "source": [
    "df_traffic.describe()"
   ]
  },
  {
   "cell_type": "code",
   "execution_count": 67,
   "metadata": {
    "scrolled": true
   },
   "outputs": [
    {
     "data": {
      "text/plain": [
       "Index(['C/A', 'UNIT', 'SCP', 'STATION', 'LINENAME', 'DIVISION', 'DATE', 'TIME',\n",
       "       'DESC', 'ENTRIES', 'EXITS'],\n",
       "      dtype='object')"
      ]
     },
     "execution_count": 67,
     "metadata": {},
     "output_type": "execute_result"
    }
   ],
   "source": [
    "df_traffic.columns"
   ]
  },
  {
   "cell_type": "code",
   "execution_count": 114,
   "metadata": {
    "scrolled": true
   },
   "outputs": [
    {
     "name": "stdout",
     "output_type": "stream",
     "text": [
      "00:00:00    185204\n",
      "04:00:00    185176\n",
      "08:00:00    185070\n",
      "20:00:00    185069\n",
      "16:00:00    185052\n",
      "12:00:00    184972\n",
      "05:00:00    133307\n",
      "01:00:00    133268\n",
      "17:00:00    133208\n",
      "09:00:00    133196\n",
      "13:00:00    133158\n",
      "21:00:00    133155\n",
      "06:00:00      8452\n",
      "18:00:00      8450\n",
      "02:00:00      8441\n",
      "22:00:00      8439\n",
      "10:00:00      8437\n",
      "14:00:00      8431\n",
      "03:00:00      3015\n",
      "15:00:00      3015\n",
      "23:00:00      3004\n",
      "11:00:00      3003\n",
      "19:00:00      3001\n",
      "07:00:00      2998\n",
      "12:22:00      2851\n",
      "00:22:00      2851\n",
      "08:22:00      2848\n",
      "04:22:00      2848\n",
      "16:22:00      2842\n",
      "20:22:00      2836\n",
      "06:30:00      1501\n",
      "02:30:00      1500\n",
      "10:30:00      1495\n",
      "18:30:00      1482\n",
      "22:30:00      1480\n",
      "14:30:00      1477\n",
      "16:30:00       924\n",
      "08:30:00       923\n",
      "12:30:00       922\n",
      "20:30:00       920\n",
      "04:30:00       919\n",
      "00:30:00       918\n",
      "07:56:45        45\n",
      "07:27:49        35\n",
      "09:20:44        34\n",
      "07:44:39        32\n",
      "21:00:01        32\n",
      "07:59:34        30\n",
      "07:22:43        28\n",
      "08:34:25        28\n",
      "Name: TIME, dtype: int64\n"
     ]
    }
   ],
   "source": [
    "df_traffic_time = df_traffic.TIME.value_counts().sort_values(ascending = False)\n",
    "\n",
    "print(df_traffic_time.head(50))"
   ]
  },
  {
   "cell_type": "code",
   "execution_count": 69,
   "metadata": {
    "scrolled": false
   },
   "outputs": [
    {
     "data": {
      "text/plain": [
       "count     55139.000000\n",
       "mean         39.357279\n",
       "std        2380.645815\n",
       "min           1.000000\n",
       "25%           1.000000\n",
       "50%           2.000000\n",
       "75%           4.000000\n",
       "max      185204.000000\n",
       "Name: TIME, dtype: float64"
      ]
     },
     "execution_count": 69,
     "metadata": {},
     "output_type": "execute_result"
    }
   ],
   "source": [
    "df_traffic_time.describe()"
   ]
  },
  {
   "cell_type": "code",
   "execution_count": 70,
   "metadata": {},
   "outputs": [],
   "source": [
    "df_traffic[\"DATE_TIME\"] = pd.to_datetime(df_traffic.DATE + \" \" + df_traffic.TIME, format=\"%m/%d/%Y %H:%M:%S\")"
   ]
  },
  {
   "cell_type": "code",
   "execution_count": 71,
   "metadata": {},
   "outputs": [],
   "source": [
    "df_traffic = df_traffic.sort_values(by=['C/A', 'UNIT', 'SCP', 'STATION', 'LINENAME', 'DIVISION', 'DATE_TIME'], ascending=True)"
   ]
  },
  {
   "cell_type": "code",
   "execution_count": 72,
   "metadata": {
    "scrolled": true
   },
   "outputs": [
    {
     "data": {
      "text/html": [
       "<div>\n",
       "<style scoped>\n",
       "    .dataframe tbody tr th:only-of-type {\n",
       "        vertical-align: middle;\n",
       "    }\n",
       "\n",
       "    .dataframe tbody tr th {\n",
       "        vertical-align: top;\n",
       "    }\n",
       "\n",
       "    .dataframe thead th {\n",
       "        text-align: right;\n",
       "    }\n",
       "</style>\n",
       "<table border=\"1\" class=\"dataframe\">\n",
       "  <thead>\n",
       "    <tr style=\"text-align: right;\">\n",
       "      <th></th>\n",
       "      <th>C/A</th>\n",
       "      <th>UNIT</th>\n",
       "      <th>SCP</th>\n",
       "      <th>STATION</th>\n",
       "      <th>LINENAME</th>\n",
       "      <th>DIVISION</th>\n",
       "      <th>DATE</th>\n",
       "      <th>TIME</th>\n",
       "      <th>DESC</th>\n",
       "      <th>ENTRIES</th>\n",
       "      <th>EXITS</th>\n",
       "      <th>DATE_TIME</th>\n",
       "    </tr>\n",
       "  </thead>\n",
       "  <tbody>\n",
       "    <tr>\n",
       "      <th>0</th>\n",
       "      <td>A002</td>\n",
       "      <td>R051</td>\n",
       "      <td>02-00-00</td>\n",
       "      <td>59 ST</td>\n",
       "      <td>NQR456W</td>\n",
       "      <td>BMT</td>\n",
       "      <td>04/08/2017</td>\n",
       "      <td>00:00:00</td>\n",
       "      <td>REGULAR</td>\n",
       "      <td>6127245</td>\n",
       "      <td>2076158</td>\n",
       "      <td>2017-04-08 00:00:00</td>\n",
       "    </tr>\n",
       "    <tr>\n",
       "      <th>1</th>\n",
       "      <td>A002</td>\n",
       "      <td>R051</td>\n",
       "      <td>02-00-00</td>\n",
       "      <td>59 ST</td>\n",
       "      <td>NQR456W</td>\n",
       "      <td>BMT</td>\n",
       "      <td>04/08/2017</td>\n",
       "      <td>04:00:00</td>\n",
       "      <td>REGULAR</td>\n",
       "      <td>6127285</td>\n",
       "      <td>2076165</td>\n",
       "      <td>2017-04-08 04:00:00</td>\n",
       "    </tr>\n",
       "    <tr>\n",
       "      <th>2</th>\n",
       "      <td>A002</td>\n",
       "      <td>R051</td>\n",
       "      <td>02-00-00</td>\n",
       "      <td>59 ST</td>\n",
       "      <td>NQR456W</td>\n",
       "      <td>BMT</td>\n",
       "      <td>04/08/2017</td>\n",
       "      <td>08:00:00</td>\n",
       "      <td>REGULAR</td>\n",
       "      <td>6127304</td>\n",
       "      <td>2076196</td>\n",
       "      <td>2017-04-08 08:00:00</td>\n",
       "    </tr>\n",
       "    <tr>\n",
       "      <th>3</th>\n",
       "      <td>A002</td>\n",
       "      <td>R051</td>\n",
       "      <td>02-00-00</td>\n",
       "      <td>59 ST</td>\n",
       "      <td>NQR456W</td>\n",
       "      <td>BMT</td>\n",
       "      <td>04/08/2017</td>\n",
       "      <td>12:00:00</td>\n",
       "      <td>REGULAR</td>\n",
       "      <td>6127409</td>\n",
       "      <td>2076284</td>\n",
       "      <td>2017-04-08 12:00:00</td>\n",
       "    </tr>\n",
       "    <tr>\n",
       "      <th>4</th>\n",
       "      <td>A002</td>\n",
       "      <td>R051</td>\n",
       "      <td>02-00-00</td>\n",
       "      <td>59 ST</td>\n",
       "      <td>NQR456W</td>\n",
       "      <td>BMT</td>\n",
       "      <td>04/08/2017</td>\n",
       "      <td>16:00:00</td>\n",
       "      <td>REGULAR</td>\n",
       "      <td>6127654</td>\n",
       "      <td>2076350</td>\n",
       "      <td>2017-04-08 16:00:00</td>\n",
       "    </tr>\n",
       "  </tbody>\n",
       "</table>\n",
       "</div>"
      ],
      "text/plain": [
       "    C/A  UNIT       SCP STATION LINENAME DIVISION        DATE      TIME  \\\n",
       "0  A002  R051  02-00-00   59 ST  NQR456W      BMT  04/08/2017  00:00:00   \n",
       "1  A002  R051  02-00-00   59 ST  NQR456W      BMT  04/08/2017  04:00:00   \n",
       "2  A002  R051  02-00-00   59 ST  NQR456W      BMT  04/08/2017  08:00:00   \n",
       "3  A002  R051  02-00-00   59 ST  NQR456W      BMT  04/08/2017  12:00:00   \n",
       "4  A002  R051  02-00-00   59 ST  NQR456W      BMT  04/08/2017  16:00:00   \n",
       "\n",
       "      DESC  ENTRIES    EXITS           DATE_TIME  \n",
       "0  REGULAR  6127245  2076158 2017-04-08 00:00:00  \n",
       "1  REGULAR  6127285  2076165 2017-04-08 04:00:00  \n",
       "2  REGULAR  6127304  2076196 2017-04-08 08:00:00  \n",
       "3  REGULAR  6127409  2076284 2017-04-08 12:00:00  \n",
       "4  REGULAR  6127654  2076350 2017-04-08 16:00:00  "
      ]
     },
     "execution_count": 72,
     "metadata": {},
     "output_type": "execute_result"
    }
   ],
   "source": [
    "df_traffic.head()"
   ]
  },
  {
   "cell_type": "code",
   "execution_count": 73,
   "metadata": {},
   "outputs": [],
   "source": [
    "df_traffic[[\"PREV_DATE\", \"PREV_ENTRIES\", \"PREV_EXITS\"]] = (df_traffic\n",
    "                                                       .groupby(['C/A', 'UNIT', 'SCP', 'STATION', 'LINENAME', 'DIVISION'])['DATE_TIME', 'ENTRIES', 'EXITS']\n",
    "                                                       .transform(lambda grp: grp.shift(1)))"
   ]
  },
  {
   "cell_type": "code",
   "execution_count": 74,
   "metadata": {},
   "outputs": [
    {
     "data": {
      "text/html": [
       "<div>\n",
       "<style scoped>\n",
       "    .dataframe tbody tr th:only-of-type {\n",
       "        vertical-align: middle;\n",
       "    }\n",
       "\n",
       "    .dataframe tbody tr th {\n",
       "        vertical-align: top;\n",
       "    }\n",
       "\n",
       "    .dataframe thead th {\n",
       "        text-align: right;\n",
       "    }\n",
       "</style>\n",
       "<table border=\"1\" class=\"dataframe\">\n",
       "  <thead>\n",
       "    <tr style=\"text-align: right;\">\n",
       "      <th></th>\n",
       "      <th>C/A</th>\n",
       "      <th>UNIT</th>\n",
       "      <th>SCP</th>\n",
       "      <th>STATION</th>\n",
       "      <th>LINENAME</th>\n",
       "      <th>DIVISION</th>\n",
       "      <th>DATE</th>\n",
       "      <th>TIME</th>\n",
       "      <th>DESC</th>\n",
       "      <th>ENTRIES</th>\n",
       "      <th>EXITS</th>\n",
       "      <th>DATE_TIME</th>\n",
       "      <th>PREV_DATE</th>\n",
       "      <th>PREV_ENTRIES</th>\n",
       "      <th>PREV_EXITS</th>\n",
       "    </tr>\n",
       "  </thead>\n",
       "  <tbody>\n",
       "    <tr>\n",
       "      <th>0</th>\n",
       "      <td>A002</td>\n",
       "      <td>R051</td>\n",
       "      <td>02-00-00</td>\n",
       "      <td>59 ST</td>\n",
       "      <td>NQR456W</td>\n",
       "      <td>BMT</td>\n",
       "      <td>04/08/2017</td>\n",
       "      <td>00:00:00</td>\n",
       "      <td>REGULAR</td>\n",
       "      <td>6127245</td>\n",
       "      <td>2076158</td>\n",
       "      <td>2017-04-08 00:00:00</td>\n",
       "      <td>NaT</td>\n",
       "      <td>NaN</td>\n",
       "      <td>NaN</td>\n",
       "    </tr>\n",
       "    <tr>\n",
       "      <th>1</th>\n",
       "      <td>A002</td>\n",
       "      <td>R051</td>\n",
       "      <td>02-00-00</td>\n",
       "      <td>59 ST</td>\n",
       "      <td>NQR456W</td>\n",
       "      <td>BMT</td>\n",
       "      <td>04/08/2017</td>\n",
       "      <td>04:00:00</td>\n",
       "      <td>REGULAR</td>\n",
       "      <td>6127285</td>\n",
       "      <td>2076165</td>\n",
       "      <td>2017-04-08 04:00:00</td>\n",
       "      <td>2017-04-08 00:00:00</td>\n",
       "      <td>6127245.0</td>\n",
       "      <td>2076158.0</td>\n",
       "    </tr>\n",
       "    <tr>\n",
       "      <th>2</th>\n",
       "      <td>A002</td>\n",
       "      <td>R051</td>\n",
       "      <td>02-00-00</td>\n",
       "      <td>59 ST</td>\n",
       "      <td>NQR456W</td>\n",
       "      <td>BMT</td>\n",
       "      <td>04/08/2017</td>\n",
       "      <td>08:00:00</td>\n",
       "      <td>REGULAR</td>\n",
       "      <td>6127304</td>\n",
       "      <td>2076196</td>\n",
       "      <td>2017-04-08 08:00:00</td>\n",
       "      <td>2017-04-08 04:00:00</td>\n",
       "      <td>6127285.0</td>\n",
       "      <td>2076165.0</td>\n",
       "    </tr>\n",
       "    <tr>\n",
       "      <th>3</th>\n",
       "      <td>A002</td>\n",
       "      <td>R051</td>\n",
       "      <td>02-00-00</td>\n",
       "      <td>59 ST</td>\n",
       "      <td>NQR456W</td>\n",
       "      <td>BMT</td>\n",
       "      <td>04/08/2017</td>\n",
       "      <td>12:00:00</td>\n",
       "      <td>REGULAR</td>\n",
       "      <td>6127409</td>\n",
       "      <td>2076284</td>\n",
       "      <td>2017-04-08 12:00:00</td>\n",
       "      <td>2017-04-08 08:00:00</td>\n",
       "      <td>6127304.0</td>\n",
       "      <td>2076196.0</td>\n",
       "    </tr>\n",
       "    <tr>\n",
       "      <th>4</th>\n",
       "      <td>A002</td>\n",
       "      <td>R051</td>\n",
       "      <td>02-00-00</td>\n",
       "      <td>59 ST</td>\n",
       "      <td>NQR456W</td>\n",
       "      <td>BMT</td>\n",
       "      <td>04/08/2017</td>\n",
       "      <td>16:00:00</td>\n",
       "      <td>REGULAR</td>\n",
       "      <td>6127654</td>\n",
       "      <td>2076350</td>\n",
       "      <td>2017-04-08 16:00:00</td>\n",
       "      <td>2017-04-08 12:00:00</td>\n",
       "      <td>6127409.0</td>\n",
       "      <td>2076284.0</td>\n",
       "    </tr>\n",
       "  </tbody>\n",
       "</table>\n",
       "</div>"
      ],
      "text/plain": [
       "    C/A  UNIT       SCP STATION LINENAME DIVISION        DATE      TIME  \\\n",
       "0  A002  R051  02-00-00   59 ST  NQR456W      BMT  04/08/2017  00:00:00   \n",
       "1  A002  R051  02-00-00   59 ST  NQR456W      BMT  04/08/2017  04:00:00   \n",
       "2  A002  R051  02-00-00   59 ST  NQR456W      BMT  04/08/2017  08:00:00   \n",
       "3  A002  R051  02-00-00   59 ST  NQR456W      BMT  04/08/2017  12:00:00   \n",
       "4  A002  R051  02-00-00   59 ST  NQR456W      BMT  04/08/2017  16:00:00   \n",
       "\n",
       "      DESC  ENTRIES    EXITS           DATE_TIME           PREV_DATE  \\\n",
       "0  REGULAR  6127245  2076158 2017-04-08 00:00:00                 NaT   \n",
       "1  REGULAR  6127285  2076165 2017-04-08 04:00:00 2017-04-08 00:00:00   \n",
       "2  REGULAR  6127304  2076196 2017-04-08 08:00:00 2017-04-08 04:00:00   \n",
       "3  REGULAR  6127409  2076284 2017-04-08 12:00:00 2017-04-08 08:00:00   \n",
       "4  REGULAR  6127654  2076350 2017-04-08 16:00:00 2017-04-08 12:00:00   \n",
       "\n",
       "   PREV_ENTRIES  PREV_EXITS  \n",
       "0           NaN         NaN  \n",
       "1     6127245.0   2076158.0  \n",
       "2     6127285.0   2076165.0  \n",
       "3     6127304.0   2076196.0  \n",
       "4     6127409.0   2076284.0  "
      ]
     },
     "execution_count": 74,
     "metadata": {},
     "output_type": "execute_result"
    }
   ],
   "source": [
    "df_traffic.head()"
   ]
  },
  {
   "cell_type": "code",
   "execution_count": 75,
   "metadata": {},
   "outputs": [],
   "source": [
    "df_traffic[\"DIFF_ENTRIES\"] = abs(df_traffic[\"ENTRIES\"] - df_traffic[\"PREV_ENTRIES\"])"
   ]
  },
  {
   "cell_type": "code",
   "execution_count": 76,
   "metadata": {},
   "outputs": [],
   "source": [
    "df_traffic[\"DIFF_EXITS\"] = abs(df_traffic[\"EXITS\"] - df_traffic[\"PREV_EXITS\"])"
   ]
  },
  {
   "cell_type": "code",
   "execution_count": 77,
   "metadata": {},
   "outputs": [],
   "source": [
    "df_traffic[\"TOT_TRAFFIC\"] = (df_traffic[\"DIFF_ENTRIES\"] + df_traffic[\"DIFF_EXITS\"])"
   ]
  },
  {
   "cell_type": "code",
   "execution_count": 78,
   "metadata": {
    "scrolled": false
   },
   "outputs": [
    {
     "data": {
      "text/html": [
       "<div>\n",
       "<style scoped>\n",
       "    .dataframe tbody tr th:only-of-type {\n",
       "        vertical-align: middle;\n",
       "    }\n",
       "\n",
       "    .dataframe tbody tr th {\n",
       "        vertical-align: top;\n",
       "    }\n",
       "\n",
       "    .dataframe thead th {\n",
       "        text-align: right;\n",
       "    }\n",
       "</style>\n",
       "<table border=\"1\" class=\"dataframe\">\n",
       "  <thead>\n",
       "    <tr style=\"text-align: right;\">\n",
       "      <th></th>\n",
       "      <th>C/A</th>\n",
       "      <th>UNIT</th>\n",
       "      <th>SCP</th>\n",
       "      <th>STATION</th>\n",
       "      <th>LINENAME</th>\n",
       "      <th>DIVISION</th>\n",
       "      <th>DATE</th>\n",
       "      <th>TIME</th>\n",
       "      <th>DESC</th>\n",
       "      <th>ENTRIES</th>\n",
       "      <th>EXITS</th>\n",
       "      <th>DATE_TIME</th>\n",
       "      <th>PREV_DATE</th>\n",
       "      <th>PREV_ENTRIES</th>\n",
       "      <th>PREV_EXITS</th>\n",
       "      <th>DIFF_ENTRIES</th>\n",
       "      <th>DIFF_EXITS</th>\n",
       "      <th>TOT_TRAFFIC</th>\n",
       "    </tr>\n",
       "  </thead>\n",
       "  <tbody>\n",
       "    <tr>\n",
       "      <th>0</th>\n",
       "      <td>A002</td>\n",
       "      <td>R051</td>\n",
       "      <td>02-00-00</td>\n",
       "      <td>59 ST</td>\n",
       "      <td>NQR456W</td>\n",
       "      <td>BMT</td>\n",
       "      <td>04/08/2017</td>\n",
       "      <td>00:00:00</td>\n",
       "      <td>REGULAR</td>\n",
       "      <td>6127245</td>\n",
       "      <td>2076158</td>\n",
       "      <td>2017-04-08 00:00:00</td>\n",
       "      <td>NaT</td>\n",
       "      <td>NaN</td>\n",
       "      <td>NaN</td>\n",
       "      <td>NaN</td>\n",
       "      <td>NaN</td>\n",
       "      <td>NaN</td>\n",
       "    </tr>\n",
       "    <tr>\n",
       "      <th>1</th>\n",
       "      <td>A002</td>\n",
       "      <td>R051</td>\n",
       "      <td>02-00-00</td>\n",
       "      <td>59 ST</td>\n",
       "      <td>NQR456W</td>\n",
       "      <td>BMT</td>\n",
       "      <td>04/08/2017</td>\n",
       "      <td>04:00:00</td>\n",
       "      <td>REGULAR</td>\n",
       "      <td>6127285</td>\n",
       "      <td>2076165</td>\n",
       "      <td>2017-04-08 04:00:00</td>\n",
       "      <td>2017-04-08 00:00:00</td>\n",
       "      <td>6127245.0</td>\n",
       "      <td>2076158.0</td>\n",
       "      <td>40.0</td>\n",
       "      <td>7.0</td>\n",
       "      <td>47.0</td>\n",
       "    </tr>\n",
       "    <tr>\n",
       "      <th>2</th>\n",
       "      <td>A002</td>\n",
       "      <td>R051</td>\n",
       "      <td>02-00-00</td>\n",
       "      <td>59 ST</td>\n",
       "      <td>NQR456W</td>\n",
       "      <td>BMT</td>\n",
       "      <td>04/08/2017</td>\n",
       "      <td>08:00:00</td>\n",
       "      <td>REGULAR</td>\n",
       "      <td>6127304</td>\n",
       "      <td>2076196</td>\n",
       "      <td>2017-04-08 08:00:00</td>\n",
       "      <td>2017-04-08 04:00:00</td>\n",
       "      <td>6127285.0</td>\n",
       "      <td>2076165.0</td>\n",
       "      <td>19.0</td>\n",
       "      <td>31.0</td>\n",
       "      <td>50.0</td>\n",
       "    </tr>\n",
       "    <tr>\n",
       "      <th>3</th>\n",
       "      <td>A002</td>\n",
       "      <td>R051</td>\n",
       "      <td>02-00-00</td>\n",
       "      <td>59 ST</td>\n",
       "      <td>NQR456W</td>\n",
       "      <td>BMT</td>\n",
       "      <td>04/08/2017</td>\n",
       "      <td>12:00:00</td>\n",
       "      <td>REGULAR</td>\n",
       "      <td>6127409</td>\n",
       "      <td>2076284</td>\n",
       "      <td>2017-04-08 12:00:00</td>\n",
       "      <td>2017-04-08 08:00:00</td>\n",
       "      <td>6127304.0</td>\n",
       "      <td>2076196.0</td>\n",
       "      <td>105.0</td>\n",
       "      <td>88.0</td>\n",
       "      <td>193.0</td>\n",
       "    </tr>\n",
       "    <tr>\n",
       "      <th>4</th>\n",
       "      <td>A002</td>\n",
       "      <td>R051</td>\n",
       "      <td>02-00-00</td>\n",
       "      <td>59 ST</td>\n",
       "      <td>NQR456W</td>\n",
       "      <td>BMT</td>\n",
       "      <td>04/08/2017</td>\n",
       "      <td>16:00:00</td>\n",
       "      <td>REGULAR</td>\n",
       "      <td>6127654</td>\n",
       "      <td>2076350</td>\n",
       "      <td>2017-04-08 16:00:00</td>\n",
       "      <td>2017-04-08 12:00:00</td>\n",
       "      <td>6127409.0</td>\n",
       "      <td>2076284.0</td>\n",
       "      <td>245.0</td>\n",
       "      <td>66.0</td>\n",
       "      <td>311.0</td>\n",
       "    </tr>\n",
       "  </tbody>\n",
       "</table>\n",
       "</div>"
      ],
      "text/plain": [
       "    C/A  UNIT       SCP STATION LINENAME DIVISION        DATE      TIME  \\\n",
       "0  A002  R051  02-00-00   59 ST  NQR456W      BMT  04/08/2017  00:00:00   \n",
       "1  A002  R051  02-00-00   59 ST  NQR456W      BMT  04/08/2017  04:00:00   \n",
       "2  A002  R051  02-00-00   59 ST  NQR456W      BMT  04/08/2017  08:00:00   \n",
       "3  A002  R051  02-00-00   59 ST  NQR456W      BMT  04/08/2017  12:00:00   \n",
       "4  A002  R051  02-00-00   59 ST  NQR456W      BMT  04/08/2017  16:00:00   \n",
       "\n",
       "      DESC  ENTRIES    EXITS           DATE_TIME           PREV_DATE  \\\n",
       "0  REGULAR  6127245  2076158 2017-04-08 00:00:00                 NaT   \n",
       "1  REGULAR  6127285  2076165 2017-04-08 04:00:00 2017-04-08 00:00:00   \n",
       "2  REGULAR  6127304  2076196 2017-04-08 08:00:00 2017-04-08 04:00:00   \n",
       "3  REGULAR  6127409  2076284 2017-04-08 12:00:00 2017-04-08 08:00:00   \n",
       "4  REGULAR  6127654  2076350 2017-04-08 16:00:00 2017-04-08 12:00:00   \n",
       "\n",
       "   PREV_ENTRIES  PREV_EXITS  DIFF_ENTRIES  DIFF_EXITS  TOT_TRAFFIC  \n",
       "0           NaN         NaN           NaN         NaN          NaN  \n",
       "1     6127245.0   2076158.0          40.0         7.0         47.0  \n",
       "2     6127285.0   2076165.0          19.0        31.0         50.0  \n",
       "3     6127304.0   2076196.0         105.0        88.0        193.0  \n",
       "4     6127409.0   2076284.0         245.0        66.0        311.0  "
      ]
     },
     "execution_count": 78,
     "metadata": {},
     "output_type": "execute_result"
    }
   ],
   "source": [
    "df_traffic.head()"
   ]
  },
  {
   "cell_type": "code",
   "execution_count": 106,
   "metadata": {
    "scrolled": true
   },
   "outputs": [
    {
     "data": {
      "text/html": [
       "<div>\n",
       "<style scoped>\n",
       "    .dataframe tbody tr th:only-of-type {\n",
       "        vertical-align: middle;\n",
       "    }\n",
       "\n",
       "    .dataframe tbody tr th {\n",
       "        vertical-align: top;\n",
       "    }\n",
       "\n",
       "    .dataframe thead th {\n",
       "        text-align: right;\n",
       "    }\n",
       "</style>\n",
       "<table border=\"1\" class=\"dataframe\">\n",
       "  <thead>\n",
       "    <tr style=\"text-align: right;\">\n",
       "      <th></th>\n",
       "      <th>C/A</th>\n",
       "      <th>UNIT</th>\n",
       "      <th>SCP</th>\n",
       "      <th>STATION</th>\n",
       "      <th>LINENAME</th>\n",
       "      <th>DIVISION</th>\n",
       "      <th>DATE</th>\n",
       "      <th>TIME</th>\n",
       "      <th>DESC</th>\n",
       "      <th>ENTRIES</th>\n",
       "      <th>EXITS</th>\n",
       "      <th>DATE_TIME</th>\n",
       "      <th>PREV_DATE</th>\n",
       "      <th>PREV_ENTRIES</th>\n",
       "      <th>PREV_EXITS</th>\n",
       "      <th>DIFF_ENTRIES</th>\n",
       "      <th>DIFF_EXITS</th>\n",
       "      <th>TOT_TRAFFIC</th>\n",
       "    </tr>\n",
       "  </thead>\n",
       "  <tbody>\n",
       "    <tr>\n",
       "      <th>223643</th>\n",
       "      <td>C021</td>\n",
       "      <td>R212</td>\n",
       "      <td>00-00-02</td>\n",
       "      <td>59 ST</td>\n",
       "      <td>NRW</td>\n",
       "      <td>BMT</td>\n",
       "      <td>04/21/2017</td>\n",
       "      <td>08:00:00</td>\n",
       "      <td>REGULAR</td>\n",
       "      <td>2031090592</td>\n",
       "      <td>703462817</td>\n",
       "      <td>2017-04-21 08:00:00</td>\n",
       "      <td>2017-04-20 20:00:00</td>\n",
       "      <td>10518173.0</td>\n",
       "      <td>7909114.0</td>\n",
       "      <td>2.020572e+09</td>\n",
       "      <td>6.955537e+08</td>\n",
       "      <td>2.716126e+09</td>\n",
       "    </tr>\n",
       "    <tr>\n",
       "      <th>28163</th>\n",
       "      <td>D008</td>\n",
       "      <td>R392</td>\n",
       "      <td>00-00-02</td>\n",
       "      <td>18 AV</td>\n",
       "      <td>N</td>\n",
       "      <td>BMT</td>\n",
       "      <td>04/13/2017</td>\n",
       "      <td>09:00:00</td>\n",
       "      <td>REGULAR</td>\n",
       "      <td>1946190907</td>\n",
       "      <td>1358953142</td>\n",
       "      <td>2017-04-13 09:00:00</td>\n",
       "      <td>2017-04-13 05:00:00</td>\n",
       "      <td>7661697.0</td>\n",
       "      <td>11472850.0</td>\n",
       "      <td>1.938529e+09</td>\n",
       "      <td>1.347480e+09</td>\n",
       "      <td>3.286010e+09</td>\n",
       "    </tr>\n",
       "    <tr>\n",
       "      <th>108537</th>\n",
       "      <td>N600</td>\n",
       "      <td>R302</td>\n",
       "      <td>00-06-00</td>\n",
       "      <td>57 ST</td>\n",
       "      <td>F</td>\n",
       "      <td>IND</td>\n",
       "      <td>04/12/2017</td>\n",
       "      <td>13:00:00</td>\n",
       "      <td>REGULAR</td>\n",
       "      <td>1929351363</td>\n",
       "      <td>1543550333</td>\n",
       "      <td>2017-04-12 13:00:00</td>\n",
       "      <td>2017-04-12 09:00:00</td>\n",
       "      <td>9255535.0</td>\n",
       "      <td>6083895.0</td>\n",
       "      <td>1.920096e+09</td>\n",
       "      <td>1.537466e+09</td>\n",
       "      <td>3.457562e+09</td>\n",
       "    </tr>\n",
       "    <tr>\n",
       "      <th>2001863</th>\n",
       "      <td>H008</td>\n",
       "      <td>R248</td>\n",
       "      <td>01-00-04</td>\n",
       "      <td>1 AV</td>\n",
       "      <td>L</td>\n",
       "      <td>BMT</td>\n",
       "      <td>06/18/2017</td>\n",
       "      <td>16:00:00</td>\n",
       "      <td>REGULAR</td>\n",
       "      <td>1627413160</td>\n",
       "      <td>167780724</td>\n",
       "      <td>2017-06-18 16:00:00</td>\n",
       "      <td>2017-06-18 12:00:00</td>\n",
       "      <td>6389847.0</td>\n",
       "      <td>674838.0</td>\n",
       "      <td>1.621023e+09</td>\n",
       "      <td>1.671059e+08</td>\n",
       "      <td>1.788129e+09</td>\n",
       "    </tr>\n",
       "    <tr>\n",
       "      <th>1986044</th>\n",
       "      <td>B012</td>\n",
       "      <td>R196</td>\n",
       "      <td>00-00-00</td>\n",
       "      <td>PROSPECT PARK</td>\n",
       "      <td>BQS</td>\n",
       "      <td>BMT</td>\n",
       "      <td>06/19/2017</td>\n",
       "      <td>12:00:00</td>\n",
       "      <td>REGULAR</td>\n",
       "      <td>1567690923</td>\n",
       "      <td>787607431</td>\n",
       "      <td>2017-06-19 12:00:00</td>\n",
       "      <td>2017-06-19 00:00:00</td>\n",
       "      <td>1624939.0</td>\n",
       "      <td>1668788.0</td>\n",
       "      <td>1.566066e+09</td>\n",
       "      <td>7.859386e+08</td>\n",
       "      <td>2.352005e+09</td>\n",
       "    </tr>\n",
       "  </tbody>\n",
       "</table>\n",
       "</div>"
      ],
      "text/plain": [
       "          C/A  UNIT       SCP        STATION LINENAME DIVISION        DATE  \\\n",
       "223643   C021  R212  00-00-02          59 ST      NRW      BMT  04/21/2017   \n",
       "28163    D008  R392  00-00-02          18 AV        N      BMT  04/13/2017   \n",
       "108537   N600  R302  00-06-00          57 ST        F      IND  04/12/2017   \n",
       "2001863  H008  R248  01-00-04           1 AV        L      BMT  06/18/2017   \n",
       "1986044  B012  R196  00-00-00  PROSPECT PARK      BQS      BMT  06/19/2017   \n",
       "\n",
       "             TIME     DESC     ENTRIES       EXITS           DATE_TIME  \\\n",
       "223643   08:00:00  REGULAR  2031090592   703462817 2017-04-21 08:00:00   \n",
       "28163    09:00:00  REGULAR  1946190907  1358953142 2017-04-13 09:00:00   \n",
       "108537   13:00:00  REGULAR  1929351363  1543550333 2017-04-12 13:00:00   \n",
       "2001863  16:00:00  REGULAR  1627413160   167780724 2017-06-18 16:00:00   \n",
       "1986044  12:00:00  REGULAR  1567690923   787607431 2017-06-19 12:00:00   \n",
       "\n",
       "                  PREV_DATE  PREV_ENTRIES  PREV_EXITS  DIFF_ENTRIES  \\\n",
       "223643  2017-04-20 20:00:00    10518173.0   7909114.0  2.020572e+09   \n",
       "28163   2017-04-13 05:00:00     7661697.0  11472850.0  1.938529e+09   \n",
       "108537  2017-04-12 09:00:00     9255535.0   6083895.0  1.920096e+09   \n",
       "2001863 2017-06-18 12:00:00     6389847.0    674838.0  1.621023e+09   \n",
       "1986044 2017-06-19 00:00:00     1624939.0   1668788.0  1.566066e+09   \n",
       "\n",
       "           DIFF_EXITS   TOT_TRAFFIC  \n",
       "223643   6.955537e+08  2.716126e+09  \n",
       "28163    1.347480e+09  3.286010e+09  \n",
       "108537   1.537466e+09  3.457562e+09  \n",
       "2001863  1.671059e+08  1.788129e+09  \n",
       "1986044  7.859386e+08  2.352005e+09  "
      ]
     },
     "execution_count": 106,
     "metadata": {},
     "output_type": "execute_result"
    }
   ],
   "source": [
    "df_traffic.sort_values(['DIFF_ENTRIES'],ascending = False).head(5)"
   ]
  },
  {
   "cell_type": "code",
   "execution_count": 110,
   "metadata": {},
   "outputs": [
    {
     "data": {
      "text/html": [
       "<div>\n",
       "<style scoped>\n",
       "    .dataframe tbody tr th:only-of-type {\n",
       "        vertical-align: middle;\n",
       "    }\n",
       "\n",
       "    .dataframe tbody tr th {\n",
       "        vertical-align: top;\n",
       "    }\n",
       "\n",
       "    .dataframe thead th {\n",
       "        text-align: right;\n",
       "    }\n",
       "</style>\n",
       "<table border=\"1\" class=\"dataframe\">\n",
       "  <thead>\n",
       "    <tr style=\"text-align: right;\">\n",
       "      <th></th>\n",
       "      <th>C/A</th>\n",
       "      <th>UNIT</th>\n",
       "      <th>SCP</th>\n",
       "      <th>STATION</th>\n",
       "      <th>LINENAME</th>\n",
       "      <th>DIVISION</th>\n",
       "      <th>DATE</th>\n",
       "      <th>TIME</th>\n",
       "      <th>DESC</th>\n",
       "      <th>ENTRIES</th>\n",
       "      <th>EXITS</th>\n",
       "      <th>DATE_TIME</th>\n",
       "      <th>PREV_DATE</th>\n",
       "      <th>PREV_ENTRIES</th>\n",
       "      <th>PREV_EXITS</th>\n",
       "      <th>DIFF_ENTRIES</th>\n",
       "      <th>DIFF_EXITS</th>\n",
       "      <th>TOT_TRAFFIC</th>\n",
       "    </tr>\n",
       "  </thead>\n",
       "  <tbody>\n",
       "    <tr>\n",
       "      <th>108534</th>\n",
       "      <td>N600</td>\n",
       "      <td>R302</td>\n",
       "      <td>00-06-00</td>\n",
       "      <td>57 ST</td>\n",
       "      <td>F</td>\n",
       "      <td>IND</td>\n",
       "      <td>04/12/2017</td>\n",
       "      <td>01:00:00</td>\n",
       "      <td>REGULAR</td>\n",
       "      <td>9255532</td>\n",
       "      <td>6083377</td>\n",
       "      <td>2017-04-12 01:00:00</td>\n",
       "      <td>2017-04-11 21:00:00</td>\n",
       "      <td>9.255304e+06</td>\n",
       "      <td>6.083323e+06</td>\n",
       "      <td>2.280000e+02</td>\n",
       "      <td>5.400000e+01</td>\n",
       "      <td>2.820000e+02</td>\n",
       "    </tr>\n",
       "    <tr>\n",
       "      <th>108535</th>\n",
       "      <td>N600</td>\n",
       "      <td>R302</td>\n",
       "      <td>00-06-00</td>\n",
       "      <td>57 ST</td>\n",
       "      <td>F</td>\n",
       "      <td>IND</td>\n",
       "      <td>04/12/2017</td>\n",
       "      <td>05:00:00</td>\n",
       "      <td>REGULAR</td>\n",
       "      <td>9255535</td>\n",
       "      <td>6083396</td>\n",
       "      <td>2017-04-12 05:00:00</td>\n",
       "      <td>2017-04-12 01:00:00</td>\n",
       "      <td>9.255532e+06</td>\n",
       "      <td>6.083377e+06</td>\n",
       "      <td>3.000000e+00</td>\n",
       "      <td>1.900000e+01</td>\n",
       "      <td>2.200000e+01</td>\n",
       "    </tr>\n",
       "    <tr>\n",
       "      <th>108536</th>\n",
       "      <td>N600</td>\n",
       "      <td>R302</td>\n",
       "      <td>00-06-00</td>\n",
       "      <td>57 ST</td>\n",
       "      <td>F</td>\n",
       "      <td>IND</td>\n",
       "      <td>04/12/2017</td>\n",
       "      <td>09:00:00</td>\n",
       "      <td>REGULAR</td>\n",
       "      <td>9255535</td>\n",
       "      <td>6083895</td>\n",
       "      <td>2017-04-12 09:00:00</td>\n",
       "      <td>2017-04-12 05:00:00</td>\n",
       "      <td>9.255535e+06</td>\n",
       "      <td>6.083396e+06</td>\n",
       "      <td>0.000000e+00</td>\n",
       "      <td>4.990000e+02</td>\n",
       "      <td>4.990000e+02</td>\n",
       "    </tr>\n",
       "    <tr>\n",
       "      <th>108537</th>\n",
       "      <td>N600</td>\n",
       "      <td>R302</td>\n",
       "      <td>00-06-00</td>\n",
       "      <td>57 ST</td>\n",
       "      <td>F</td>\n",
       "      <td>IND</td>\n",
       "      <td>04/12/2017</td>\n",
       "      <td>13:00:00</td>\n",
       "      <td>REGULAR</td>\n",
       "      <td>1929351363</td>\n",
       "      <td>1543550333</td>\n",
       "      <td>2017-04-12 13:00:00</td>\n",
       "      <td>2017-04-12 09:00:00</td>\n",
       "      <td>9.255535e+06</td>\n",
       "      <td>6.083895e+06</td>\n",
       "      <td>1.920096e+09</td>\n",
       "      <td>1.537466e+09</td>\n",
       "      <td>3.457562e+09</td>\n",
       "    </tr>\n",
       "    <tr>\n",
       "      <th>108538</th>\n",
       "      <td>N600</td>\n",
       "      <td>R302</td>\n",
       "      <td>00-06-00</td>\n",
       "      <td>57 ST</td>\n",
       "      <td>F</td>\n",
       "      <td>IND</td>\n",
       "      <td>04/12/2017</td>\n",
       "      <td>17:00:00</td>\n",
       "      <td>REGULAR</td>\n",
       "      <td>1929350839</td>\n",
       "      <td>1543550614</td>\n",
       "      <td>2017-04-12 17:00:00</td>\n",
       "      <td>2017-04-12 13:00:00</td>\n",
       "      <td>1.929351e+09</td>\n",
       "      <td>1.543550e+09</td>\n",
       "      <td>5.240000e+02</td>\n",
       "      <td>2.810000e+02</td>\n",
       "      <td>8.050000e+02</td>\n",
       "    </tr>\n",
       "    <tr>\n",
       "      <th>108539</th>\n",
       "      <td>N600</td>\n",
       "      <td>R302</td>\n",
       "      <td>00-06-00</td>\n",
       "      <td>57 ST</td>\n",
       "      <td>F</td>\n",
       "      <td>IND</td>\n",
       "      <td>04/12/2017</td>\n",
       "      <td>21:00:00</td>\n",
       "      <td>REGULAR</td>\n",
       "      <td>1929349962</td>\n",
       "      <td>1543550781</td>\n",
       "      <td>2017-04-12 21:00:00</td>\n",
       "      <td>2017-04-12 17:00:00</td>\n",
       "      <td>1.929351e+09</td>\n",
       "      <td>1.543551e+09</td>\n",
       "      <td>8.770000e+02</td>\n",
       "      <td>1.670000e+02</td>\n",
       "      <td>1.044000e+03</td>\n",
       "    </tr>\n",
       "  </tbody>\n",
       "</table>\n",
       "</div>"
      ],
      "text/plain": [
       "         C/A  UNIT       SCP STATION LINENAME DIVISION        DATE      TIME  \\\n",
       "108534  N600  R302  00-06-00   57 ST        F      IND  04/12/2017  01:00:00   \n",
       "108535  N600  R302  00-06-00   57 ST        F      IND  04/12/2017  05:00:00   \n",
       "108536  N600  R302  00-06-00   57 ST        F      IND  04/12/2017  09:00:00   \n",
       "108537  N600  R302  00-06-00   57 ST        F      IND  04/12/2017  13:00:00   \n",
       "108538  N600  R302  00-06-00   57 ST        F      IND  04/12/2017  17:00:00   \n",
       "108539  N600  R302  00-06-00   57 ST        F      IND  04/12/2017  21:00:00   \n",
       "\n",
       "           DESC     ENTRIES       EXITS           DATE_TIME  \\\n",
       "108534  REGULAR     9255532     6083377 2017-04-12 01:00:00   \n",
       "108535  REGULAR     9255535     6083396 2017-04-12 05:00:00   \n",
       "108536  REGULAR     9255535     6083895 2017-04-12 09:00:00   \n",
       "108537  REGULAR  1929351363  1543550333 2017-04-12 13:00:00   \n",
       "108538  REGULAR  1929350839  1543550614 2017-04-12 17:00:00   \n",
       "108539  REGULAR  1929349962  1543550781 2017-04-12 21:00:00   \n",
       "\n",
       "                 PREV_DATE  PREV_ENTRIES    PREV_EXITS  DIFF_ENTRIES  \\\n",
       "108534 2017-04-11 21:00:00  9.255304e+06  6.083323e+06  2.280000e+02   \n",
       "108535 2017-04-12 01:00:00  9.255532e+06  6.083377e+06  3.000000e+00   \n",
       "108536 2017-04-12 05:00:00  9.255535e+06  6.083396e+06  0.000000e+00   \n",
       "108537 2017-04-12 09:00:00  9.255535e+06  6.083895e+06  1.920096e+09   \n",
       "108538 2017-04-12 13:00:00  1.929351e+09  1.543550e+09  5.240000e+02   \n",
       "108539 2017-04-12 17:00:00  1.929351e+09  1.543551e+09  8.770000e+02   \n",
       "\n",
       "          DIFF_EXITS   TOT_TRAFFIC  \n",
       "108534  5.400000e+01  2.820000e+02  \n",
       "108535  1.900000e+01  2.200000e+01  \n",
       "108536  4.990000e+02  4.990000e+02  \n",
       "108537  1.537466e+09  3.457562e+09  \n",
       "108538  2.810000e+02  8.050000e+02  \n",
       "108539  1.670000e+02  1.044000e+03  "
      ]
     },
     "execution_count": 110,
     "metadata": {},
     "output_type": "execute_result"
    }
   ],
   "source": [
    "df_traffic[(df_traffic.LINENAME == 'F') & (df_traffic.UNIT == 'R302') & (df_traffic.SCP == '00-06-00') & (df_traffic.DATE == '04/12/2017')]"
   ]
  },
  {
   "cell_type": "code",
   "execution_count": 79,
   "metadata": {},
   "outputs": [
    {
     "data": {
      "text/plain": [
       "REGULAR       2162308\n",
       "RECOVR AUD       7813\n",
       "Name: DESC, dtype: int64"
      ]
     },
     "execution_count": 79,
     "metadata": {},
     "output_type": "execute_result"
    }
   ],
   "source": [
    "df_traffic.DESC.value_counts()"
   ]
  },
  {
   "cell_type": "code",
   "execution_count": 80,
   "metadata": {
    "scrolled": true
   },
   "outputs": [
    {
     "data": {
      "text/plain": [
       "count        2170121\n",
       "unique            77\n",
       "top       04/12/2017\n",
       "freq           31452\n",
       "Name: DATE, dtype: object"
      ]
     },
     "execution_count": 80,
     "metadata": {},
     "output_type": "execute_result"
    }
   ],
   "source": [
    "df_traffic.DATE.describe()"
   ]
  },
  {
   "cell_type": "code",
   "execution_count": 81,
   "metadata": {},
   "outputs": [],
   "source": [
    "from copy import deepcopy, copy\n",
    "\n",
    "df_traffic_nan = df_traffic.copy(deep=True)"
   ]
  },
  {
   "cell_type": "code",
   "execution_count": 82,
   "metadata": {},
   "outputs": [],
   "source": [
    "df_traffic_nan.dropna(axis=0, how='any', inplace = True)"
   ]
  },
  {
   "cell_type": "code",
   "execution_count": 87,
   "metadata": {},
   "outputs": [
    {
     "name": "stdout",
     "output_type": "stream",
     "text": [
      "<class 'pandas.core.frame.DataFrame'>\n",
      "Int64Index: 2165388 entries, 1 to 2170120\n",
      "Data columns (total 18 columns):\n",
      "C/A             object\n",
      "UNIT            object\n",
      "SCP             object\n",
      "STATION         object\n",
      "LINENAME        object\n",
      "DIVISION        object\n",
      "DATE            object\n",
      "TIME            object\n",
      "DESC            object\n",
      "ENTRIES         int64\n",
      "EXITS           int64\n",
      "DATE_TIME       datetime64[ns]\n",
      "PREV_DATE       datetime64[ns]\n",
      "PREV_ENTRIES    float64\n",
      "PREV_EXITS      float64\n",
      "DIFF_ENTRIES    float64\n",
      "DIFF_EXITS      float64\n",
      "TOT_TRAFFIC     float64\n",
      "dtypes: datetime64[ns](2), float64(5), int64(2), object(9)\n",
      "memory usage: 313.9+ MB\n"
     ]
    }
   ],
   "source": [
    "df_traffic_nan.info()"
   ]
  },
  {
   "cell_type": "code",
   "execution_count": 88,
   "metadata": {
    "scrolled": true
   },
   "outputs": [],
   "source": [
    "df_traffic_201705 = df_traffic_nan[(df_traffic_nan.DATE_TIME < '2017-06-01') & (df_traffic_nan.DATE_TIME >= '2017-05-01')]"
   ]
  },
  {
   "cell_type": "code",
   "execution_count": 91,
   "metadata": {},
   "outputs": [],
   "source": [
    "df_traffic_201705.to_csv('traffic_201705.csv', sep = ',', index = False)"
   ]
  },
  {
   "cell_type": "code",
   "execution_count": 89,
   "metadata": {
    "scrolled": true
   },
   "outputs": [
    {
     "name": "stdout",
     "output_type": "stream",
     "text": [
      "<class 'pandas.core.frame.DataFrame'>\n",
      "Int64Index: 868658 entries, 596830 to 1577852\n",
      "Data columns (total 18 columns):\n",
      "C/A             868658 non-null object\n",
      "UNIT            868658 non-null object\n",
      "SCP             868658 non-null object\n",
      "STATION         868658 non-null object\n",
      "LINENAME        868658 non-null object\n",
      "DIVISION        868658 non-null object\n",
      "DATE            868658 non-null object\n",
      "TIME            868658 non-null object\n",
      "DESC            868658 non-null object\n",
      "ENTRIES         868658 non-null int64\n",
      "EXITS           868658 non-null int64\n",
      "DATE_TIME       868658 non-null datetime64[ns]\n",
      "PREV_DATE       868658 non-null datetime64[ns]\n",
      "PREV_ENTRIES    868658 non-null float64\n",
      "PREV_EXITS      868658 non-null float64\n",
      "DIFF_ENTRIES    868658 non-null float64\n",
      "DIFF_EXITS      868658 non-null float64\n",
      "TOT_TRAFFIC     868658 non-null float64\n",
      "dtypes: datetime64[ns](2), float64(5), int64(2), object(9)\n",
      "memory usage: 125.9+ MB\n"
     ]
    }
   ],
   "source": [
    "df_traffic_201705.info()"
   ]
  },
  {
   "cell_type": "code",
   "execution_count": 90,
   "metadata": {},
   "outputs": [
    {
     "data": {
      "text/html": [
       "<div>\n",
       "<style scoped>\n",
       "    .dataframe tbody tr th:only-of-type {\n",
       "        vertical-align: middle;\n",
       "    }\n",
       "\n",
       "    .dataframe tbody tr th {\n",
       "        vertical-align: top;\n",
       "    }\n",
       "\n",
       "    .dataframe thead th {\n",
       "        text-align: right;\n",
       "    }\n",
       "</style>\n",
       "<table border=\"1\" class=\"dataframe\">\n",
       "  <thead>\n",
       "    <tr style=\"text-align: right;\">\n",
       "      <th></th>\n",
       "      <th>C/A</th>\n",
       "      <th>UNIT</th>\n",
       "      <th>SCP</th>\n",
       "      <th>STATION</th>\n",
       "      <th>LINENAME</th>\n",
       "      <th>DIVISION</th>\n",
       "      <th>DATE</th>\n",
       "      <th>TIME</th>\n",
       "      <th>DESC</th>\n",
       "      <th>ENTRIES</th>\n",
       "      <th>EXITS</th>\n",
       "      <th>DATE_TIME</th>\n",
       "      <th>PREV_DATE</th>\n",
       "      <th>PREV_ENTRIES</th>\n",
       "      <th>PREV_EXITS</th>\n",
       "      <th>DIFF_ENTRIES</th>\n",
       "      <th>DIFF_EXITS</th>\n",
       "      <th>TOT_TRAFFIC</th>\n",
       "    </tr>\n",
       "  </thead>\n",
       "  <tbody>\n",
       "  </tbody>\n",
       "</table>\n",
       "</div>"
      ],
      "text/plain": [
       "Empty DataFrame\n",
       "Columns: [C/A, UNIT, SCP, STATION, LINENAME, DIVISION, DATE, TIME, DESC, ENTRIES, EXITS, DATE_TIME, PREV_DATE, PREV_ENTRIES, PREV_EXITS, DIFF_ENTRIES, DIFF_EXITS, TOT_TRAFFIC]\n",
       "Index: []"
      ]
     },
     "execution_count": 90,
     "metadata": {},
     "output_type": "execute_result"
    }
   ],
   "source": [
    "df_traffic_201705[df_traffic_201705.PREV_ENTRIES.isnull()]"
   ]
  },
  {
   "cell_type": "code",
   "execution_count": 156,
   "metadata": {},
   "outputs": [
    {
     "data": {
      "text/plain": [
       "<matplotlib.axes._subplots.AxesSubplot at 0x2dc0fc2e7f0>"
      ]
     },
     "execution_count": 156,
     "metadata": {},
     "output_type": "execute_result"
    },
    {
     "data": {
      "image/png": "[encoded data removed]",
      "text/plain": [
       "<matplotlib.figure.Figure at 0x2dc0fbf9f28>"
      ]
     },
     "metadata": {},
     "output_type": "display_data"
    }
   ],
   "source": [
    "df_traffic_201705.TOT_TRAFFIC.plot.hist()"
   ]
  },
  {
   "cell_type": "code",
   "execution_count": null,
   "metadata": {},
   "outputs": [
    {
     "data": {
      "text/plain": [
       "<matplotlib.collections.PathCollection at 0x2dc1ce89a58>"
      ]
     },
     "execution_count": 185,
     "metadata": {},
     "output_type": "execute_result"
    }
   ],
   "source": [
    "x = df_traffic_201705.TIME.values\n",
    "\n",
    "y = df_traffic_201705.TOT_TRAFFIC.values\n",
    "\n",
    "#plt.scatter(x,y, s=20, marker = 'o', c='b')"
   ]
  },
  {
   "cell_type": "code",
   "execution_count": 151,
   "metadata": {},
   "outputs": [],
   "source": [
    "df_active_hrs = df_traffic_201705[(df_traffic_201705.TIME <= '23:59:59') & (df_traffic_201705.TIME >= '06:30:00')]"
   ]
  },
  {
   "cell_type": "code",
   "execution_count": 139,
   "metadata": {},
   "outputs": [],
   "source": [
    "df_dead = df_traffic_201705[(df_traffic_201705.TIME > '23:59:59') | (df_traffic_201705.TIME < '06:30:00')]"
   ]
  },
  {
   "cell_type": "code",
   "execution_count": null,
   "metadata": {},
   "outputs": [],
   "source": [
    "import matplotlib.pyplot as plt\n",
    "import seaborn as sns\n",
    "from IPython.display import Image\n",
    "\n",
    "%matplotlib inline\n",
    "\n",
    "plt.style.use('seaborn')"
   ]
  },
  {
   "cell_type": "code",
   "execution_count": 162,
   "metadata": {},
   "outputs": [
    {
     "data": {
      "text/plain": [
       "<matplotlib.axes._subplots.AxesSubplot at 0x2dc1c97a1d0>"
      ]
     },
     "execution_count": 162,
     "metadata": {},
     "output_type": "execute_result"
    },
    {
     "data": {
      "image/png": "[encoded data removed]",
      "text/plain": [
       "<matplotlib.figure.Figure at 0x2dc1c97a208>"
      ]
     },
     "metadata": {},
     "output_type": "display_data"
    }
   ],
   "source": [
    "plt.figure(dpi=100)\n",
    "sns.boxplot(df_traffic_201705.TOT_TRAFFIC)"
   ]
  },
  {
   "cell_type": "code",
   "execution_count": 171,
   "metadata": {},
   "outputs": [
    {
     "data": {
      "text/plain": [
       "(0, 2000)"
      ]
     },
     "execution_count": 171,
     "metadata": {},
     "output_type": "execute_result"
    },
    {
     "data": {
      "image/png": "[encoded data removed]",
      "text/plain": [
       "<matplotlib.figure.Figure at 0x2dc3e02b748>"
      ]
     },
     "metadata": {},
     "output_type": "display_data"
    }
   ],
   "source": [
    "plt.figure(dpi=100)\n",
    "histplot=sns.boxplot(df_traffic_201705.TOT_TRAFFIC)\n",
    "histplot.set_xlim(0,2000)"
   ]
  },
  {
   "cell_type": "code",
   "execution_count": 163,
   "metadata": {
    "scrolled": false
   },
   "outputs": [
    {
     "data": {
      "text/plain": [
       "<matplotlib.axes._subplots.AxesSubplot at 0x2dc1c99a7f0>"
      ]
     },
     "execution_count": 163,
     "metadata": {},
     "output_type": "execute_result"
    },
    {
     "data": {
      "image/png": "[encoded data removed]",
      "text/plain": [
       "<matplotlib.figure.Figure at 0x2dc1c99a828>"
      ]
     },
     "metadata": {},
     "output_type": "display_data"
    }
   ],
   "source": [
    "plt.figure(dpi=100)\n",
    "sns.boxplot(df_active_hrs.TOT_TRAFFIC)"
   ]
  },
  {
   "cell_type": "code",
   "execution_count": 173,
   "metadata": {},
   "outputs": [
    {
     "data": {
      "text/plain": [
       "(0, 1800)"
      ]
     },
     "execution_count": 173,
     "metadata": {},
     "output_type": "execute_result"
    },
    {
     "data": {
      "image/png": "[encoded data removed]",
      "text/plain": [
       "<matplotlib.figure.Figure at 0x2dc1cdfbb70>"
      ]
     },
     "metadata": {},
     "output_type": "display_data"
    }
   ],
   "source": [
    "plt.figure(dpi=100)\n",
    "histplot=sns.boxplot(df_active_hrs.TOT_TRAFFIC)\n",
    "histplot.set_xlim(0,1800)"
   ]
  },
  {
   "cell_type": "code",
   "execution_count": 178,
   "metadata": {},
   "outputs": [],
   "source": [
    "outlier_limit = 1450"
   ]
  },
  {
   "cell_type": "code",
   "execution_count": 179,
   "metadata": {},
   "outputs": [],
   "source": [
    "df_excl_outliers = df_active_hrs[(df_active_hrs.TOT_TRAFFIC < outlier_limit)]"
   ]
  },
  {
   "cell_type": "code",
   "execution_count": 180,
   "metadata": {
    "scrolled": false
   },
   "outputs": [
    {
     "data": {
      "text/plain": [
       "<matplotlib.axes._subplots.AxesSubplot at 0x2dc0f7347b8>"
      ]
     },
     "execution_count": 180,
     "metadata": {},
     "output_type": "execute_result"
    },
    {
     "data": {
      "image/png": "[encoded data removed]",
      "text/plain": [
       "<matplotlib.figure.Figure at 0x2dc3e041630>"
      ]
     },
     "metadata": {},
     "output_type": "display_data"
    }
   ],
   "source": [
    "sns.kdeplot(df_excl_outliers.TOT_TRAFFIC)"
   ]
  },
  {
   "cell_type": "code",
   "execution_count": 182,
   "metadata": {},
   "outputs": [
    {
     "data": {
      "text/plain": [
       "(0, 1500)"
      ]
     },
     "execution_count": 182,
     "metadata": {},
     "output_type": "execute_result"
    },
    {
     "data": {
      "image/png": "[encoded data removed]",
      "text/plain": [
       "<matplotlib.figure.Figure at 0x2dc274804a8>"
      ]
     },
     "metadata": {},
     "output_type": "display_data"
    }
   ],
   "source": [
    "plt.figure(dpi=100)\n",
    "histplot=sns.boxplot(df_excl_outliers.TOT_TRAFFIC)\n",
    "histplot.set_xlim(0,1500)"
   ]
  },
  {
   "cell_type": "code",
   "execution_count": 146,
   "metadata": {},
   "outputs": [
    {
     "data": {
      "text/plain": [
       "0.9669442660581797"
      ]
     },
     "execution_count": 146,
     "metadata": {},
     "output_type": "execute_result"
    }
   ],
   "source": [
    "1-(df_active_hrs.UNIT.count() - df_excl_outliers.UNIT.count())/df_active_hrs.UNIT.count()"
   ]
  },
  {
   "cell_type": "code",
   "execution_count": 153,
   "metadata": {
    "scrolled": true
   },
   "outputs": [
    {
     "name": "stdout",
     "output_type": "stream",
     "text": [
      "186.0 309.0 293.0\n"
     ]
    }
   ],
   "source": [
    "print(df_traffic_201705.TOT_TRAFFIC.median(),df_active_hrs.TOT_TRAFFIC.median(),df_excl_outliers.TOT_TRAFFIC.median())\n"
   ]
  },
  {
   "cell_type": "code",
   "execution_count": 154,
   "metadata": {},
   "outputs": [
    {
     "name": "stdout",
     "output_type": "stream",
     "text": [
      "13895.200524256958 20511.06384159755 380.3458955527059\n"
     ]
    }
   ],
   "source": [
    "print(df_traffic_201705.TOT_TRAFFIC.mean(),df_active_hrs.TOT_TRAFFIC.mean(),df_excl_outliers.TOT_TRAFFIC.mean())\n"
   ]
  },
  {
   "cell_type": "code",
   "execution_count": null,
   "metadata": {},
   "outputs": [],
   "source": []
  }
 ],
 "metadata": {
  "kernelspec": {
   "display_name": "Python 3",
   "language": "python",
   "name": "python3"
  },
  "language_info": {
   "codemirror_mode": {
    "name": "ipython",
    "version": 3
   },
   "file_extension": ".py",
   "mimetype": "text/x-python",
   "name": "python",
   "nbconvert_exporter": "python",
   "pygments_lexer": "ipython3",
   "version": "3.6.4"
  }
 },
 "nbformat": 4,
 "nbformat_minor": 2
}
